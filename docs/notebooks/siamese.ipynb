{
 "cells": [
  {
   "cell_type": "code",
   "execution_count": null,
   "metadata": {},
   "outputs": [],
   "source": [
    "from abc import ABC, abstractmethod\n",
    "\n",
    "from matplotlib import backends\n",
    "import torch\n",
    "import torch.nn as nn\n",
    "import torch.nn.functional as F\n",
    "\n",
    "class SiameseNetworkBase(ABC):\n",
    "    @abstractmethod\n",
    "    def __init__(self, image_size, color_channels, embedding_size):\n",
    "        pass\n",
    "\n",
    "    @abstractmethod\n",
    "    def forward_once(self, x):\n",
    "        pass\n",
    "\n",
    "    @abstractmethod\n",
    "    def forward(self, input1, input2):\n",
    "        pass\n",
    "\n",
    "    @abstractmethod\n",
    "    def compute_embedding(self, x):\n",
    "        pass\n",
    "\n",
    "    @abstractmethod\n",
    "    def save_model(self, filepath):\n",
    "        pass\n",
    "\n",
    "    @abstractmethod\n",
    "    def load_model(self, filepath):\n",
    "        pass\n",
    "\n",
    "class SiameseNetworkPyTorch(SiameseNetworkBase, nn.Module):\n",
    "    def __init__(self, image_size=(105, 105), color_channels=1, embedding_size=128):\n",
    "        nn.Module.__init__(self)\n",
    "        SiameseNetworkBase.__init__(self, image_size, color_channels, embedding_size)\n",
    "        self.image_size = image_size\n",
    "        self.color_channels = color_channels\n",
    "        self.embedding_size = embedding_size\n",
    "        self.transform = None\n",
    "\n",
    "        # Convolutional layers\n",
    "        self.conv_layers = nn.Sequential(\n",
    "            nn.Conv2d(self.color_channels, 64, kernel_size=3, padding=1),\n",
    "            nn.BatchNorm2d(64),\n",
    "            nn.ReLU(),\n",
    "            nn.MaxPool2d(2),\n",
    "\n",
    "            nn.Conv2d(64, 128, kernel_size=3, padding=1),\n",
    "            nn.BatchNorm2d(128),\n",
    "            nn.ReLU(),\n",
    "            nn.MaxPool2d(2),\n",
    "\n",
    "            nn.Conv2d(128, 256, kernel_size=3, padding=1),\n",
    "            nn.BatchNorm2d(256),\n",
    "            nn.ReLU(),\n",
    "            nn.MaxPool2d(2),\n",
    "\n",
    "            nn.Conv2d(256, 512, kernel_size=3, padding=1),\n",
    "            nn.BatchNorm2d(512),\n",
    "            nn.ReLU(),\n",
    "            nn.AdaptiveAvgPool2d(1)\n",
    "        )\n",
    "\n",
    "        # Calculate the size after convolutional layers to define the first linear layer\n",
    "        self._to_linear = self._calculate_conv_output_size()\n",
    "\n",
    "        # Fully connected layers\n",
    "        self.fc_layers = nn.Sequential(\n",
    "            nn.Linear(self._to_linear, 4096),\n",
    "            nn.ReLU(),\n",
    "            nn.Linear(4096, self.embedding_size)\n",
    "        )\n",
    "\n",
    "        # Initialize weights\n",
    "        self._initialize_weights()\n",
    "\n",
    "    def _calculate_conv_output_size(self):\n",
    "        # Dummy input to calculate the size\n",
    "        with torch.no_grad():\n",
    "            #print(f\"Calculating the size after convolutional layers... (input size: {self.color_channels}x{self.image_size[0]}x{self.image_size[1]})\")\n",
    "            x = torch.zeros(1, self.color_channels, *self.image_size)\n",
    "            x = self.conv_layers(x)\n",
    "            return x.view(1, -1).size(1)\n",
    "\n",
    "    def forward_once(self, x):\n",
    "        #print(x.shape)\n",
    "        x = self.conv_layers(x)\n",
    "        x = x.view(x.size()[0], -1)  # Flatten\n",
    "        x = self.fc_layers(x)\n",
    "        return x\n",
    "\n",
    "    def forward(self, input1, input2):\n",
    "        output1 = self.forward_once(input1)\n",
    "        output2 = self.forward_once(input2)\n",
    "        return output1, output2\n",
    "\n",
    "    @staticmethod\n",
    "    def load_trained_model(filepath, image_size=(105, 105), color_channels=3, embedding_size=128):\n",
    "        \"\"\"\n",
    "        Loads a trained Siamese network from a saved state dict.\n",
    "\n",
    "        Args:\n",
    "            filepath (str): Path to the saved model file.\n",
    "            image_size (tuple): Size of the input images.\n",
    "            color_channels (int): Number of color channels.\n",
    "            embedding_size (int): Size of the embedding vector.\n",
    "\n",
    "        Returns:\n",
    "            SiameseNetworkPyTorch: An instance of the loaded model.\n",
    "        \"\"\"\n",
    "        model = SiameseNetworkPyTorch(\n",
    "            image_size=image_size,\n",
    "            color_channels=color_channels,\n",
    "            embedding_size=embedding_size\n",
    "        )\n",
    "        model.load_model(filepath)\n",
    "        model.eval()\n",
    "        return model\n",
    "\n",
    "    def predict(self, img1, img2, transform, threshold):\n",
    "        \"\"\"\n",
    "        Predicts whether two images are similar or dissimilar.\n",
    "\n",
    "        Args:\n",
    "            img1 (PIL.Image or str): First image or path to the image.\n",
    "            img2 (PIL.Image or str): Second image or path to the image.\n",
    "            transform (callable): Transformations to apply to the images.\n",
    "            threshold (float): Threshold for determining similarity.\n",
    "\n",
    "        Returns:\n",
    "            float: The Euclidean distance between the embeddings.\n",
    "            int: Prediction label (0 for similar, 1 for dissimilar).\n",
    "        \"\"\"\n",
    "        # Load images if paths are provided\n",
    "        if isinstance(img1, str):\n",
    "            img1 = Image.open(img1).convert('RGB')\n",
    "        if isinstance(img2, str):\n",
    "            img2 = Image.open(img2).convert('RGB')\n",
    "\n",
    "        # Apply transformations\n",
    "        img1 = transform(img1).unsqueeze(0)  # Add batch dimension\n",
    "        img2 = transform(img2).unsqueeze(0)\n",
    "\n",
    "        # Move to device\n",
    "        device = next(self.parameters()).device\n",
    "        img1 = img1.to(device)\n",
    "        img2 = img2.to(device)\n",
    "\n",
    "        # Compute embeddings\n",
    "        with torch.no_grad():\n",
    "            output1 = self.forward_once(img1)\n",
    "            output2 = self.forward_once(img2)\n",
    "\n",
    "        # Compute Euclidean distance\n",
    "        #euclidean_distance = F.pairwise_distance(output1, output2).item()\n",
    "        cosine_similarity = F.cosine_similarity(output1, output2).item()\n",
    "\n",
    "        # Make prediction based on threshold\n",
    "        #prediction = 1 if euclidean_distance > threshold else -1\n",
    "        prediction = 1.0 if cosine_similarity >= threshold else -1.0\n",
    "\n",
    "        #return euclidean_distance, prediction\n",
    "        return cosine_similarity, prediction\n",
    "\n",
    "    def compute_embedding(self, img, transform):\n",
    "        \"\"\"\n",
    "        Computes the embedding for a single image.\n",
    "\n",
    "        Args:\n",
    "            img (PIL.Image or str): Image or path to the image.\n",
    "            transform (callable): Transformations to apply to the image.\n",
    "\n",
    "        Returns:\n",
    "            Tensor: Embedding vector.\n",
    "        \"\"\"\n",
    "        # Load image if path is provided\n",
    "        if isinstance(img, str):\n",
    "            img = Image.open(img).convert('RGB')\n",
    "\n",
    "        # Apply transformations\n",
    "        img = transform(img).unsqueeze(0)  # Add batch dimension\n",
    "\n",
    "        # Move to device\n",
    "        device = next(self.parameters()).device\n",
    "        img = img.to(device)\n",
    "\n",
    "        # Compute embedding\n",
    "        with torch.no_grad():\n",
    "            embedding = self.forward_once(img)\n",
    "\n",
    "        return embedding.cpu().numpy().flatten()\n",
    "\n",
    "    def save_model(self, filepath):\n",
    "        torch.save(self.state_dict(), filepath)\n",
    "\n",
    "    def load_model(self, filepath):\n",
    "        self.load_state_dict(torch.load(filepath))\n",
    "\n",
    "    def _initialize_weights(self):\n",
    "        # Initialize weights using Xavier initialization\n",
    "        for m in self.modules():\n",
    "            if isinstance(m, nn.Conv2d) or isinstance(m, nn.Linear):\n",
    "                nn.init.xavier_uniform_(m.weight)\n",
    "                if m.bias is not None:\n",
    "                    nn.init.zeros_(m.bias)\n",
    "\n",
    "\n",
    "from abc import ABC, abstractmethod\n",
    "from torch.utils.data import Dataset\n",
    "\n",
    "class SiameseDatasetBase(Dataset, ABC):\n",
    "    def __init__(self, transform=None, callbacks=None):\n",
    "        \"\"\"\n",
    "        Base class for Siamese datasets.\n",
    "\n",
    "        Args:\n",
    "            transform (callable, optional): Optional transform to be applied on a sample.\n",
    "            callbacks (dict, optional): Dictionary of callback functions for data retrieval.\n",
    "        \"\"\"\n",
    "        self.transform = transform\n",
    "        self.callbacks = callbacks or {}\n",
    "\n",
    "    @abstractmethod\n",
    "    def __getitem__(self, index):\n",
    "        pass\n",
    "\n",
    "    @abstractmethod\n",
    "    def __len__(self):\n",
    "        pass\n",
    "\n",
    "import os\n",
    "import random\n",
    "from PIL import Image\n",
    "import torch\n",
    "\n",
    "class SiameseDatasetFromPaths(SiameseDatasetBase):\n",
    "    def __init__(self, image_folder_dataset, transform=None, num_pairs=10000):\n",
    "        super().__init__(transform=transform)\n",
    "        self.image_folder_dataset = image_folder_dataset\n",
    "        self.classes = list(self.image_folder_dataset.keys())\n",
    "        self.transform = transform\n",
    "\n",
    "        # Precompute pairs\n",
    "        self.pairs = []\n",
    "        for _ in range(num_pairs):\n",
    "            should_get_same_class = random.randint(0, 1)\n",
    "            class1 = random.choice(self.classes)\n",
    "            img1_path = random.choice(self.image_folder_dataset[class1])\n",
    "\n",
    "            if should_get_same_class or len(self.classes) < 2:\n",
    "                # Positive pair\n",
    "                class2 = class1\n",
    "                label = 1.0\n",
    "            else:\n",
    "                # Negative pair\n",
    "                class2 = random.choice(self.classes)\n",
    "                while class1 == class2:\n",
    "                    class2 = random.choice(self.classes)\n",
    "                label = -1.0\n",
    "\n",
    "            img2_path = random.choice(self.image_folder_dataset[class2])\n",
    "            self.pairs.append((img1_path, img2_path, label))\n",
    "\n",
    "    def __getitem__(self, index):\n",
    "        img1_path, img2_path, label = self.pairs[index]\n",
    "\n",
    "        img1 = Image.open(img1_path).convert('L')\n",
    "        img2 = Image.open(img2_path).convert('L')\n",
    "\n",
    "        if self.transform:\n",
    "            img1 = self.transform(img1)\n",
    "            img2 = self.transform(img2)\n",
    "\n",
    "        return img1, img2, torch.tensor(label, dtype=torch.float32)\n",
    "\n",
    "    def __len__(self):\n",
    "        return len(self.pairs)\n",
    "    \n",
    "def build_image_dataset_from_directory(root_dir):\n",
    "    \"\"\"\n",
    "    Builds a dictionary where each key is a class label and the value is a list of image paths.\n",
    "    \n",
    "    Args:\n",
    "        root_dir (str): Path to the root directory ('train' or 'val').\n",
    "    \n",
    "    Returns:\n",
    "        dict: A dictionary with class labels as keys and lists of image paths as values.\n",
    "    \"\"\"\n",
    "    image_dataset = {}\n",
    "    classes = os.listdir(root_dir)\n",
    "    for cls in classes:\n",
    "        cls_path = os.path.join(root_dir, cls)\n",
    "        if os.path.isdir(cls_path):\n",
    "            images = [os.path.join(cls_path, img) for img in os.listdir(cls_path)\n",
    "                      if img.lower().endswith(('jpg', 'png', 'jpeg'))]\n",
    "            if images:\n",
    "                image_dataset[cls] = images\n",
    "    return image_dataset\n",
    "\n",
    "import torch\n",
    "from PIL import Image\n",
    "import numpy as np\n",
    "\n",
    "class SiameseDatasetFromCpp(SiameseDatasetBase):\n",
    "    def __init__(self, transform=None, callbacks=None):\n",
    "        super().__init__(transform=transform, callbacks=callbacks)\n",
    "\n",
    "        if 'get_data' not in self.callbacks:\n",
    "            raise ValueError(\"Callback 'get_data' must be provided for SiameseDatasetFromCpp\")\n",
    "\n",
    "        # Optionally, initialize any required state or connection here\n",
    "        # For example, establish a connection to the C++ application if needed\n",
    "\n",
    "    def __getitem__(self, index):\n",
    "        \"\"\"\n",
    "        Retrieves a data sample from the C++ application via the 'get_data' callback.\n",
    "\n",
    "        Args:\n",
    "            index (int): Index of the sample. Since data is provided via callback, index can be ignored.\n",
    "\n",
    "        Returns:\n",
    "            Tuple[Tensor, Tensor, Tensor]: Tuple containing the two images and the label.\n",
    "        \"\"\"\n",
    "        # Fetch image data and label from the C++ application via the 'get_data' callback\n",
    "        img1_data, img2_data, label = self.callbacks['get_data']()\n",
    "\n",
    "        # Convert raw data to PIL Images\n",
    "        img1 = Image.fromarray(img1_data).convert('RGB')\n",
    "        img2 = Image.fromarray(img2_data).convert('RGB')\n",
    "\n",
    "        if self.transform:\n",
    "            img1 = self.transform(img1)\n",
    "            img2 = self.transform(img2)\n",
    "\n",
    "        label_tensor = torch.tensor([label], dtype=torch.float32)\n",
    "\n",
    "        return img1, img2, label_tensor\n",
    "\n",
    "    def __len__(self):\n",
    "        \"\"\"\n",
    "        Returns the length of the dataset.\n",
    "\n",
    "        Since data is provided on-demand from the C++ application, we can set an arbitrary large number\n",
    "        or manage the length via a callback if needed.\n",
    "\n",
    "        Returns:\n",
    "            int: Length of the dataset.\n",
    "        \"\"\"\n",
    "        if 'get_length' in self.callbacks:\n",
    "            return self.callbacks['get_length']()\n",
    "        else:\n",
    "            # Return a large number to simulate an infinite dataset\n",
    "            return 1000000\n",
    "    \n",
    "class ContrastiveLoss(nn.Module):\n",
    "    def __init__(self, margin=2.0):\n",
    "        super(ContrastiveLoss, self).__init__()\n",
    "        self.margin = margin\n",
    "\n",
    "    def forward(self, output1, output2, label):\n",
    "        euclidean_distance = F.pairwise_distance(output1, output2)\n",
    "        loss_contrastive = torch.mean(\n",
    "            (1 - label) * torch.pow(euclidean_distance, 2) +\n",
    "            (label) * torch.pow(torch.clamp(self.margin - euclidean_distance, min=0.0), 2)\n",
    "        )\n",
    "        return loss_contrastive\n",
    "    \n",
    "# siamese_trainer.py\n",
    "\n",
    "import torch\n",
    "import torch.nn.functional as F\n",
    "from torch.utils.data import DataLoader\n",
    "from torchvision import transforms\n",
    "from tqdm import tqdm\n",
    "import copy\n",
    "\n",
    "from tqdm import tqdm\n",
    "\n",
    "# Import or define your model and dataset classes here\n",
    "# from siamese_network import SiameseNetworkPyTorch\n",
    "# from contrastive_loss import ContrastiveLoss\n",
    "# from siamese_dataset import SiameseDatasetFromPaths, SiameseDatasetFromCpp\n",
    "\n",
    "class SiameseTrainer:\n",
    "    @staticmethod\n",
    "    def train_model(\n",
    "        model_params,\n",
    "        train_dataset_params,\n",
    "        val_dataset_params,\n",
    "        training_params,\n",
    "        callbacks\n",
    "    ):\n",
    "        \"\"\"\n",
    "        Static method to train the Siamese network.\n",
    "\n",
    "        Args:\n",
    "            model_params (dict): Parameters for model initialization.\n",
    "            train_dataset_params (dict): Parameters for the training dataset.\n",
    "            val_dataset_params (dict): Parameters for the validation dataset.\n",
    "            training_params (dict): Training parameters (epochs, batch_size, learning_rate, etc.).\n",
    "            callbacks (dict): Dictionary of callback functions.\n",
    "        \"\"\"\n",
    "        # Unpack model parameters\n",
    "        image_size = model_params.get('image_size', (105, 105))\n",
    "        color_channels = model_params.get('color_channels', 3)\n",
    "        embedding_size = model_params.get('embedding_size', 128)\n",
    "\n",
    "        # Unpack training parameters\n",
    "        num_epochs = training_params.get('num_epochs', 10)\n",
    "        batch_size = training_params.get('batch_size', 32)\n",
    "        learning_rate = training_params.get('learning_rate', 0.0005)\n",
    "        max_batches = training_params.get('max_batches', None)\n",
    "        margin = training_params.get('margin', 2.0)\n",
    "        threshold = training_params.get('threshold', 0.5) #margin / 2.0)\n",
    "        patience = training_params.get('patience', 5)  # For early stopping\n",
    "        device = torch.device('cuda' if torch.cuda.is_available() else ('mps' if torch.backends.mps.is_available() else 'cpu'))\n",
    "\n",
    "        # Define transformations\n",
    "        transform = transforms.Compose([\n",
    "            transforms.Resize(image_size),\n",
    "            transforms.ToTensor(),\n",
    "            transforms.Normalize(mean=[0.5]*color_channels, std=[0.5]*color_channels)\n",
    "        ])\n",
    "\n",
    "        # Initialize the training dataset\n",
    "        train_dataset_class = train_dataset_params.get('dataset_class', 'paths')\n",
    "        if train_dataset_class == 'dataset':\n",
    "            train_dataset = train_dataset_params.get('data')\n",
    "        elif train_dataset_class == 'paths':\n",
    "            train_dataset = SiameseDatasetFromPaths(train_dataset_params.get('data'), transform=transform)\n",
    "        elif train_dataset_class == 'cpp':\n",
    "            train_dataset = SiameseDatasetFromCpp(transform=transform, callbacks=callbacks)\n",
    "        else:\n",
    "            raise ValueError(\"Invalid train dataset_class specified.\")\n",
    "\n",
    "        # Initialize the validation dataset\n",
    "        val_dataset_class = val_dataset_params.get('dataset_class', 'paths')\n",
    "        if val_dataset_class == 'dataset':\n",
    "            val_dataset = val_dataset_params.get('data')\n",
    "        elif val_dataset_class == 'paths':\n",
    "            val_dataset = SiameseDatasetFromPaths(val_dataset_params.get('data'), transform=transform)\n",
    "        elif val_dataset_class == 'cpp':\n",
    "            val_dataset = SiameseDatasetFromCpp(transform=transform, callbacks=callbacks)\n",
    "        else:\n",
    "            raise ValueError(\"Invalid val dataset_class specified.\")\n",
    "\n",
    "        # DataLoaders\n",
    "        train_loader = DataLoader(train_dataset, shuffle=True, batch_size=batch_size, num_workers=0)\n",
    "        val_loader = DataLoader(val_dataset, shuffle=False, batch_size=batch_size, num_workers=0)\n",
    "\n",
    "        # Initialize the model\n",
    "        print(f\"Training on {device}, with {color_channels} color channels\")\n",
    "        model = SiameseNetworkPyTorch(\n",
    "            image_size=image_size,\n",
    "            color_channels=color_channels,\n",
    "            embedding_size=embedding_size\n",
    "        )\n",
    "        model.transform = transform  # Store the transform for later use\n",
    "        model = model.to(device)\n",
    "\n",
    "        # Loss function and optimizer\n",
    "        #criterion = ContrastiveLoss(margin=margin)\n",
    "        criterion = torch.nn.CosineEmbeddingLoss()\n",
    "        optimizer = torch.optim.Adam(model.parameters(), lr=learning_rate)\n",
    "\n",
    "        # Learning Rate Scheduler\n",
    "        from torch.optim.lr_scheduler import ReduceLROnPlateau\n",
    "        scheduler = ReduceLROnPlateau(optimizer, mode='min', factor=0.1, patience=2, verbose=True)\n",
    "\n",
    "        # Early stopping parameters\n",
    "        best_val_loss = float('inf')\n",
    "        epochs_no_improve = 0\n",
    "        early_stop = False\n",
    "        best_model_wts = copy.deepcopy(model.state_dict())\n",
    "\n",
    "        # Training loop\n",
    "        for epoch in range(1, num_epochs + 1):\n",
    "            if early_stop:\n",
    "                print(\"Early stopping triggered. Stopping training.\")\n",
    "                break\n",
    "\n",
    "            model.train()\n",
    "            epoch_loss = 0.0\n",
    "            correct = 0\n",
    "            total = 0\n",
    "\n",
    "            print(f\"Starting epoch {epoch}/{num_epochs}\")\n",
    "\n",
    "            for batch_idx, (img1, img2, label) in enumerate(tqdm(train_loader)):\n",
    "                if max_batches and batch_idx >= max_batches:\n",
    "                    break  # Limit the number of batches if desired\n",
    "\n",
    "                img1, img2, label = img1.to(device), img2.to(device), label.to(device)\n",
    "\n",
    "                optimizer.zero_grad()\n",
    "\n",
    "                # Forward pass\n",
    "                output1, output2 = model(img1, img2)\n",
    "\n",
    "                # Compute loss\n",
    "                loss = criterion(output1, output2, label)\n",
    "\n",
    "                # Backward pass and optimization\n",
    "                loss.backward()\n",
    "                optimizer.step()\n",
    "\n",
    "                epoch_loss += loss.item()\n",
    "\n",
    "                # Compute distances\n",
    "                #euclidean_distance = F.pairwise_distance(output1, output2)\n",
    "                cosine_similarity = F.cosine_similarity(output1, output2)\n",
    "\n",
    "                # Make predictions based on threshold\n",
    "                pred = torch.where(cosine_similarity >= threshold, torch.tensor(1.0).to(device), torch.tensor(-1.0).to(device))\n",
    "\n",
    "                # Make predictions based on threshold\n",
    "                #pred = (euclidean_distance > threshold).float()\n",
    "                \n",
    "                # Compare predictions with labels\n",
    "                correct += (pred == label).sum().item()\n",
    "                total += label.size(0)\n",
    "\n",
    "                # Call the 'on_batch_end' callback\n",
    "                if 'on_batch_end' in callbacks:\n",
    "                    callbacks['on_batch_end'](epoch, batch_idx, loss.item())\n",
    "\n",
    "            avg_loss = epoch_loss / (batch_idx + 1)\n",
    "            train_acc = correct / total\n",
    "\n",
    "            print(f\"Epoch [{epoch}/{num_epochs}] completed. Average Training Loss: {avg_loss:.4f}, Training Accuracy: {train_acc:.4f}\")\n",
    "\n",
    "            # Perform validation\n",
    "            val_loss, val_acc = SiameseTrainer.validate_model(model, val_loader, criterion, device, threshold)\n",
    "            print(f\"Epoch [{epoch}/{num_epochs}] Validation Loss: {val_loss:.4f}, Validation Accuracy: {val_acc:.4f}\")\n",
    "\n",
    "            # Step the scheduler\n",
    "            scheduler.step(val_loss)\n",
    "\n",
    "            # Check for early stopping\n",
    "            if val_loss < best_val_loss:\n",
    "                best_val_loss = val_loss\n",
    "                epochs_no_improve = 0\n",
    "                # Save the best model weights\n",
    "                best_model_wts = copy.deepcopy(model.state_dict())\n",
    "                print(f\"Validation loss decreased ({best_val_loss:.4f}). Saving model ...\")\n",
    "                # Optionally, save the model to a file\n",
    "                if 'save_model' in callbacks:\n",
    "                    callbacks['save_model'](model, epoch)\n",
    "            else:\n",
    "                epochs_no_improve += 1\n",
    "                print(f'Epochs without improvement: {epochs_no_improve}/{patience}')\n",
    "\n",
    "                if epochs_no_improve >= patience:\n",
    "                    print('Early stopping triggered.')\n",
    "                    early_stop = True\n",
    "                    break  # Break out of the epoch loop\n",
    "\n",
    "            # Call the 'on_epoch_end' callback\n",
    "            if 'on_epoch_end' in callbacks:\n",
    "                callbacks['on_epoch_end'](epoch, avg_loss, train_acc, val_loss, val_acc)\n",
    "\n",
    "        # Load the best model weights\n",
    "        model.load_state_dict(best_model_wts)\n",
    "        print(\"Best model restored.\")\n",
    "\n",
    "        # Call the 'on_training_end' callback\n",
    "        if 'on_training_end' in callbacks:\n",
    "            callbacks['on_training_end'](model)\n",
    "\n",
    "        return model  # Return the trained model\n",
    "\n",
    "    @staticmethod\n",
    "    def validate_model(model, val_loader, criterion, device, threshold):\n",
    "        model.eval()\n",
    "        val_loss = 0.0\n",
    "        correct = 0\n",
    "        total = 0\n",
    "\n",
    "        with torch.no_grad():\n",
    "            for batch_idx, (img1, img2, label) in enumerate(tqdm(val_loader)):\n",
    "                img1, img2, label = img1.to(device), img2.to(device), label.to(device)\n",
    "\n",
    "                # Forward pass\n",
    "                output1, output2 = model(img1, img2)\n",
    "\n",
    "                # Compute loss\n",
    "                loss = criterion(output1, output2, label)\n",
    "\n",
    "                val_loss += loss.item()\n",
    "\n",
    "                # Compute distances\n",
    "                #euclidean_distance = F.pairwise_distance(output1, output2)\n",
    "                cosine_similarity = F.cosine_similarity(output1, output2)\n",
    "\n",
    "                # Make predictions based on threshold\n",
    "                #pred = (euclidean_distance > threshold).float()\n",
    "                pred = torch.where(cosine_similarity >= threshold, torch.tensor(1.0).to(device), torch.tensor(-1.0).to(device))\n",
    "\n",
    "                # Compare predictions with labels\n",
    "                correct += (pred == label).sum().item()\n",
    "                total += label.size(0)\n",
    "\n",
    "        avg_val_loss = val_loss / (batch_idx + 1)\n",
    "        val_acc = correct / total\n",
    "\n",
    "        return avg_val_loss, val_acc\n",
    "\n",
    "import torch\n",
    "from torch.utils.data import DataLoader\n",
    "from torchvision import transforms\n",
    "\n",
    "# Define dummy callbacks\n",
    "def on_batch_end(epoch, batch_idx, loss):\n",
    "    pass\n",
    "    #print(f\"[Callback] Epoch {epoch}, Batch {batch_idx}, Loss: {loss:.4f}\")\n",
    "\n",
    "def on_epoch_end(epoch, avg_train_loss, train_acc, avg_val_loss, val_acc):\n",
    "    print(f\"[Callback] Epoch {epoch} ended.\")\n",
    "    print(f\"Training Loss: {avg_train_loss:.4f}, Training Accuracy: {train_acc:.4f}\")\n",
    "    print(f\"Validation Loss: {avg_val_loss:.4f}, Validation Accuracy: {val_acc:.4f}\")\n",
    "\n",
    "def save_model(model, epoch):\n",
    "    # For testing, we won't actually save the model\n",
    "    print(f\"[Callback] Model saved at epoch {epoch}\")\n",
    "\n",
    "def on_training_end(model):\n",
    "    print(\"[Callback] Training completed.\")\n",
    "\n",
    "# Assemble the callbacks into a dictionary\n",
    "callbacks = {\n",
    "    'on_batch_end': on_batch_end,\n",
    "    'on_epoch_end': on_epoch_end,\n",
    "    'save_model': save_model,\n",
    "    'on_training_end': on_training_end\n",
    "}\n"
   ]
  },
  {
   "cell_type": "code",
   "execution_count": 2,
   "metadata": {},
   "outputs": [
    {
     "name": "stdout",
     "output_type": "stream",
     "text": [
      "Number of classes in training set: 8\n",
      "Number of classes in validation set: 2\n"
     ]
    },
    {
     "data": {
      "image/png": "[encoded data removed]",
      "text/plain": [
       "<Figure size 800x400 with 2 Axes>"
      ]
     },
     "metadata": {},
     "output_type": "display_data"
    },
    {
     "data": {
      "image/png": "[encoded data removed]",
      "text/plain": [
       "<Figure size 800x400 with 2 Axes>"
      ]
     },
     "metadata": {},
     "output_type": "display_data"
    },
    {
     "data": {
      "image/png": "[encoded data removed]",
      "text/plain": [
       "<Figure size 800x400 with 2 Axes>"
      ]
     },
     "metadata": {},
     "output_type": "display_data"
    },
    {
     "name": "stdout",
     "output_type": "stream",
     "text": [
      "Starting epoch 1/25\n"
     ]
    },
    {
     "name": "stderr",
     "output_type": "stream",
     "text": [
      "  0%|          | 0/157 [00:06<?, ?it/s]\n"
     ]
    },
    {
     "ename": "KeyboardInterrupt",
     "evalue": "",
     "output_type": "error",
     "traceback": [
      "\u001b[0;31m---------------------------------------------------------------------------\u001b[0m",
      "\u001b[0;31mKeyboardInterrupt\u001b[0m                         Traceback (most recent call last)",
      "Cell \u001b[0;32mIn[2], line 77\u001b[0m\n\u001b[1;32m     70\u001b[0m val_dataset_params \u001b[38;5;241m=\u001b[39m {\n\u001b[1;32m     71\u001b[0m     \u001b[38;5;124m'\u001b[39m\u001b[38;5;124mdataset_class\u001b[39m\u001b[38;5;124m'\u001b[39m: \u001b[38;5;124m'\u001b[39m\u001b[38;5;124mpaths\u001b[39m\u001b[38;5;124m'\u001b[39m,\n\u001b[1;32m     72\u001b[0m     \u001b[38;5;124m'\u001b[39m\u001b[38;5;124mdata\u001b[39m\u001b[38;5;124m'\u001b[39m: val_image_dataset  \u001b[38;5;66;03m# The image dataset built earlier\u001b[39;00m\n\u001b[1;32m     73\u001b[0m }\n\u001b[1;32m     74\u001b[0m \u001b[38;5;66;03m#'''\u001b[39;00m\n\u001b[1;32m     75\u001b[0m \n\u001b[1;32m     76\u001b[0m \u001b[38;5;66;03m# Run the training\u001b[39;00m\n\u001b[0;32m---> 77\u001b[0m trained_model \u001b[38;5;241m=\u001b[39m \u001b[43mSiameseTrainer\u001b[49m\u001b[38;5;241;43m.\u001b[39;49m\u001b[43mtrain_model\u001b[49m\u001b[43m(\u001b[49m\n\u001b[1;32m     78\u001b[0m \u001b[43m    \u001b[49m\u001b[43mmodel_params\u001b[49m\u001b[43m,\u001b[49m\n\u001b[1;32m     79\u001b[0m \u001b[43m    \u001b[49m\u001b[43mtrain_dataset_params\u001b[49m\u001b[43m,\u001b[49m\n\u001b[1;32m     80\u001b[0m \u001b[43m    \u001b[49m\u001b[43mval_dataset_params\u001b[49m\u001b[43m,\u001b[49m\n\u001b[1;32m     81\u001b[0m \u001b[43m    \u001b[49m\u001b[43mtraining_params\u001b[49m\u001b[43m,\u001b[49m\n\u001b[1;32m     82\u001b[0m \u001b[43m    \u001b[49m\u001b[43mcallbacks\u001b[49m\n\u001b[1;32m     83\u001b[0m \u001b[43m)\u001b[49m\n",
      "Cell \u001b[0;32mIn[1], line 520\u001b[0m, in \u001b[0;36mSiameseTrainer.train_model\u001b[0;34m(model_params, train_dataset_params, val_dataset_params, training_params, callbacks)\u001b[0m\n\u001b[1;32m    517\u001b[0m pred \u001b[38;5;241m=\u001b[39m (euclidean_distance \u001b[38;5;241m>\u001b[39m threshold)\u001b[38;5;241m.\u001b[39mfloat()\n\u001b[1;32m    519\u001b[0m \u001b[38;5;66;03m# Compare predictions with labels\u001b[39;00m\n\u001b[0;32m--> 520\u001b[0m correct \u001b[38;5;241m+\u001b[39m\u001b[38;5;241m=\u001b[39m \u001b[43m(\u001b[49m\u001b[43mpred\u001b[49m\u001b[43m \u001b[49m\u001b[38;5;241;43m==\u001b[39;49m\u001b[43m \u001b[49m\u001b[43mlabel\u001b[49m\u001b[43m)\u001b[49m\u001b[38;5;241;43m.\u001b[39;49m\u001b[43msum\u001b[49m\u001b[43m(\u001b[49m\u001b[43m)\u001b[49m\u001b[38;5;241m.\u001b[39mitem()\n\u001b[1;32m    521\u001b[0m total \u001b[38;5;241m+\u001b[39m\u001b[38;5;241m=\u001b[39m label\u001b[38;5;241m.\u001b[39msize(\u001b[38;5;241m0\u001b[39m)\n\u001b[1;32m    523\u001b[0m \u001b[38;5;66;03m# Call the 'on_batch_end' callback\u001b[39;00m\n",
      "\u001b[0;31mKeyboardInterrupt\u001b[0m: "
     ]
    }
   ],
   "source": [
    "\n",
    "# Define model parameters\n",
    "model_params = {\n",
    "    'image_size': (80, 80),\n",
    "    'color_channels': 1,\n",
    "    'embedding_size': 128\n",
    "}\n",
    "\n",
    "# Define training parameters\n",
    "training_params = {\n",
    "    'num_epochs': 25,\n",
    "    'batch_size': 64,\n",
    "    'learning_rate': 0.0005,\n",
    "    'margin': 2.0,\n",
    "    'max_batches': 50  # Limit the number of batches for testing\n",
    "}\n",
    "\n",
    "# For c++ usage\n",
    "import numpy as np\n",
    "\n",
    "def get_data():\n",
    "    # Generate dummy image data (random noise)\n",
    "    height, width, channels = 105, 105, 3\n",
    "    img1_data = np.random.randint(0, 256, (height, width, channels), dtype=np.uint8)\n",
    "    img2_data = np.random.randint(0, 256, (height, width, channels), dtype=np.uint8)\n",
    "    label = np.random.choice([0, 1])  # Randomly choose 0 or 1\n",
    "\n",
    "    return img1_data, img2_data, label\n",
    "\n",
    "# /// Update callbacks\n",
    "'''\n",
    "callbacks['get_data'] = get_data\n",
    "\n",
    "train_dataset_params = {\n",
    "    'dataset_class': 'cpp',  # Indicate that we're using the dataset that interfaces with C++\n",
    "}\n",
    "\n",
    "# Run the training\n",
    "trained_model = SiameseTrainer.train_model(\n",
    "    model_params,\n",
    "    train_dataset_params,\n",
    "    training_params,\n",
    "    callbacks\n",
    ")\n",
    "#'''\n",
    "# ///\n",
    "\n",
    "#'''\n",
    "# Build the image dataset\n",
    "root_dir = 'id_dataset'  # Replace with your dataset path\n",
    "\n",
    "# Paths to the 'train' and 'val' directories\n",
    "train_dir = os.path.join(root_dir, 'train')\n",
    "val_dir = os.path.join(root_dir, 'val')\n",
    "\n",
    "# Build the image datasets\n",
    "train_image_dataset = build_image_dataset_from_directory(train_dir)\n",
    "val_image_dataset = build_image_dataset_from_directory(val_dir)\n",
    "\n",
    "# Check the number of classes and images\n",
    "print(f\"Number of classes in training set: {len(train_image_dataset)}\")\n",
    "print(f\"Number of classes in validation set: {len(val_image_dataset)}\")\n",
    "\n",
    "# Define training dataset parameters\n",
    "train_dataset_params = {\n",
    "    'dataset_class': 'paths',\n",
    "    'data': train_image_dataset  # The image dataset built earlier\n",
    "}\n",
    "\n",
    "# Define validation dataset parameters\n",
    "val_dataset_params = {\n",
    "    'dataset_class': 'paths',\n",
    "    'data': val_image_dataset  # The image dataset built earlier\n",
    "}\n",
    "#'''\n",
    "\n",
    "# Run the training\n",
    "trained_model = SiameseTrainer.train_model(\n",
    "    model_params,\n",
    "    train_dataset_params,\n",
    "    val_dataset_params,\n",
    "    training_params,\n",
    "    callbacks\n",
    ")\n"
   ]
  },
  {
   "cell_type": "code",
   "execution_count": 82,
   "metadata": {},
   "outputs": [],
   "source": [
    "import torch\n",
    "import torch.nn.functional as F\n",
    "from torchvision import transforms\n",
    "from PIL import Image\n",
    "import numpy as np\n",
    "\n",
    "class SiamesePredictor:\n",
    "    def __init__(self, model_path, model_params, threshold):\n",
    "        \"\"\"\n",
    "        Initializes the predictor with a trained model.\n",
    "\n",
    "        Args:\n",
    "            model_path (str or nn.Module): Path to the saved model file or an instance of the model.\n",
    "            model_params (dict): Parameters used to initialize the model.\n",
    "            threshold (float): Threshold for determining similarity.\n",
    "        \"\"\"\n",
    "        # Extract model parameters\n",
    "        self.image_size = model_params.get('image_size', (105, 105))\n",
    "        self.color_channels = model_params.get('color_channels', 1)\n",
    "        self.embedding_size = model_params.get('embedding_size', 128)\n",
    "\n",
    "        # Device configuration\n",
    "        self.device = torch.device('cuda' if torch.cuda.is_available() else ('mps' if torch.backends.mps.is_available() else 'cpu'))\n",
    "\n",
    "        # Load the model\n",
    "        if isinstance(model_path, str):\n",
    "            self.model = SiameseNetworkPyTorch.load_trained_model(\n",
    "                filepath=model_path,\n",
    "                image_size=self.image_size,\n",
    "                color_channels=self.color_channels,\n",
    "                embedding_size=self.embedding_size\n",
    "            )\n",
    "        elif isinstance(model_path, nn.Module):\n",
    "            self.model = model_path\n",
    "        else:\n",
    "            raise ValueError(\"Invalid model_path provided.\")\n",
    "\n",
    "        self.model.to(self.device)\n",
    "        self.model.eval()\n",
    "\n",
    "        self.threshold = threshold\n",
    "\n",
    "        # Define transformations based on color channels\n",
    "        self.transform = self._get_transform()\n",
    "\n",
    "    def _get_transform(self):\n",
    "        \"\"\"\n",
    "        Defines the transformations to apply to input images.\n",
    "        Adjusts for grayscale or RGB images based on the model's color_channels.\n",
    "        \"\"\"\n",
    "        if self.color_channels == 1:\n",
    "            # Grayscale transformations\n",
    "            transform = transforms.Compose([\n",
    "                transforms.Resize(self.image_size),\n",
    "                transforms.Grayscale(num_output_channels=1),\n",
    "                transforms.ToTensor(),\n",
    "                transforms.Normalize(mean=[0.5], std=[0.5])\n",
    "            ])\n",
    "        else:\n",
    "            # RGB transformations\n",
    "            transform = transforms.Compose([\n",
    "                transforms.Resize(self.image_size),\n",
    "                transforms.ToTensor(),\n",
    "                transforms.Normalize(mean=[0.5]*self.color_channels, std=[0.5]*self.color_channels)\n",
    "            ])\n",
    "        return transform\n",
    "\n",
    "    def predict(self, input1, input2):\n",
    "        \"\"\"\n",
    "        Predicts similarity between inputs. Automatically handles different input types.\n",
    "\n",
    "        Args:\n",
    "            input1: Single image, list of images, or set of images.\n",
    "            input2: Single image, list of images, set of images, or dict of sets.\n",
    "\n",
    "        Returns:\n",
    "            See the method's docstring in previous answers for possible returns.\n",
    "        \"\"\"\n",
    "        # Handle single image vs single image\n",
    "        if self._is_single_image(input1) and self._is_single_image(input2):\n",
    "            similarity, prediction = self._predict_single_pair(input1, input2)\n",
    "            return similarity, prediction\n",
    "\n",
    "        # Handle single image vs list of images\n",
    "        elif self._is_single_image(input1) and self._is_list_of_images(input2):\n",
    "            results = self._predict_image_to_images(input1, input2)\n",
    "            return results\n",
    "\n",
    "        # Handle list of images vs list of images\n",
    "        elif self._is_list_of_images(input1) and self._is_list_of_images(input2):\n",
    "            results = self._predict_images_to_images(input1, input2)\n",
    "            return results\n",
    "\n",
    "        # Handle set comparison: input2 is a dict of sets\n",
    "        elif self._is_list_of_images(input1) and isinstance(input2, dict):\n",
    "            closest_set, distances = self._compare_set_to_sets(input1, input2)\n",
    "            return closest_set, distances\n",
    "\n",
    "        else:\n",
    "            raise ValueError(\"Invalid input types for prediction.\")\n",
    "\n",
    "    # Helper methods to determine input types\n",
    "    def _is_single_image(self, input):\n",
    "        if isinstance(input, (str, Image.Image)):\n",
    "            return True\n",
    "        if isinstance(input, np.ndarray) and (len(input.shape) == 3 or (len(input.shape) == 4 and input.shape[0] == 1)):\n",
    "            return True\n",
    "        elif isinstance(input, torch.Tensor) and input.dim() == 4 and input.size(0) == 1:\n",
    "            return True\n",
    "        return False\n",
    "\n",
    "    def _is_list_of_images(self, input):\n",
    "        if isinstance(input, np.ndarray) and len(input.shape) == 4 and input.shape[0] > 1:\n",
    "            return True\n",
    "        return isinstance(input, list) and all(isinstance(i, (str, Image.Image, np.ndarray, torch.Tensor)) for i in input)\n",
    "\n",
    "    # Prediction methods\n",
    "    def _predict_single_pair(self, img1, img2):\n",
    "        # Load and preprocess images\n",
    "        img1 = self._prepare_input(img1)\n",
    "        img2 = self._prepare_input(img2)\n",
    "\n",
    "        # Compute embeddings\n",
    "        with torch.no_grad():\n",
    "            output1 = self.model.forward_once(img1)\n",
    "            output2 = self.model.forward_once(img2)\n",
    "\n",
    "        # Compute cosine similarity\n",
    "        cosine_similarity = F.cosine_similarity(output1, output2).item()\n",
    "\n",
    "        # Make prediction\n",
    "        prediction = 1.0 if cosine_similarity >= self.threshold else -1.0\n",
    "\n",
    "        return cosine_similarity, prediction\n",
    "\n",
    "    def _predict_image_to_images(self, img1, images):\n",
    "        # Load and preprocess images\n",
    "        img1 = self._prepare_input(img1)\n",
    "        img2_batch = self._prepare_batch_input(images)\n",
    "\n",
    "        # Compute embeddings\n",
    "        with torch.no_grad():\n",
    "            output1 = self.model.forward_once(img1)\n",
    "            output2 = self.model.forward_once(img2_batch)\n",
    "\n",
    "        # Compute cosine similarities\n",
    "        cosine_similarities = F.cosine_similarity(output1, output2)\n",
    "\n",
    "        # Make predictions\n",
    "        preds = torch.where(cosine_similarities >= self.threshold, torch.tensor(1.0).to(self.device), torch.tensor(-1.0).to(self.device))\n",
    "        similarities = cosine_similarities.cpu().numpy()\n",
    "        preds = preds.cpu().numpy()\n",
    "\n",
    "        # Pair image identifiers with results\n",
    "        results = list(zip(images, similarities, preds))\n",
    "\n",
    "        return results\n",
    "\n",
    "    def _predict_images_to_images(self, images1, images2):\n",
    "        # Load and preprocess images\n",
    "        img1_batch = self._prepare_batch_input(images1)\n",
    "        img2_batch = self._prepare_batch_input(images2)\n",
    "\n",
    "        # Ensure same batch size\n",
    "        if len(images1) != len(images2):\n",
    "            raise ValueError(\"Both image lists must have the same number of images.\")\n",
    "\n",
    "        # Compute embeddings\n",
    "        with torch.no_grad():\n",
    "            output1 = self.model.forward_once(img1_batch)\n",
    "            output2 = self.model.forward_once(img2_batch)\n",
    "\n",
    "        # Compute cosine similarities\n",
    "        cosine_similarities = F.cosine_similarity(output1, output2)\n",
    "\n",
    "        # Make predictions\n",
    "        preds = torch.where(cosine_similarities >= self.threshold, torch.tensor(1.0).to(self.device), torch.tensor(-1.0).to(self.device))\n",
    "        similarities = cosine_similarities.cpu().numpy()\n",
    "        preds = preds.cpu().numpy()\n",
    "\n",
    "        # Pair image identifiers with results\n",
    "        results = list(zip(images1, images2, similarities, preds))\n",
    "\n",
    "        return results\n",
    "\n",
    "    def _compare_set_to_sets(self, comp_images, sets_dict):\n",
    "        \"\"\"\n",
    "        Compares a set of images (comp_images) to multiple sets (sets_dict).\n",
    "\n",
    "        Args:\n",
    "            comp_images (list): List of images in COMP set.\n",
    "            sets_dict (dict): Dictionary with set names as keys and list of images as values.\n",
    "\n",
    "        Returns:\n",
    "            str: Name of the closest set.\n",
    "            dict: Average similarities to each set.\n",
    "        \"\"\"\n",
    "        comp_embeddings = self._compute_embeddings(comp_images)\n",
    "\n",
    "        set_similarities = {}\n",
    "        for set_name, images in sets_dict.items():\n",
    "            set_embeddings = self._compute_embeddings(images)\n",
    "            # Compute similarities between every pair of embeddings\n",
    "            similarities = self._compute_similarity_matrix(comp_embeddings, set_embeddings)\n",
    "            # Compute average similarity\n",
    "            avg_similarity = similarities.mean()\n",
    "            set_similarities[set_name] = avg_similarity\n",
    "\n",
    "        # Determine the closest set (highest average similarity)\n",
    "        closest_set = max(set_similarities, key=set_similarities.get)\n",
    "\n",
    "        return closest_set, set_similarities\n",
    "\n",
    "    def _prepare_input(self, img):\n",
    "        \"\"\"\n",
    "        Prepares a single image input, handling different data types efficiently.\n",
    "\n",
    "        Args:\n",
    "            img: Image input, can be a path, PIL Image, NumPy array, or tensor.\n",
    "\n",
    "        Returns:\n",
    "            Tensor: Preprocessed image tensor ready for model input.\n",
    "        \"\"\"\n",
    "        if isinstance(img, torch.Tensor):\n",
    "            # Assume tensor is already preprocessed\n",
    "            img = img.to(self.device)\n",
    "            if img.dim() == 3:\n",
    "                img = img.unsqueeze(0)  # Add batch dimension\n",
    "            return img\n",
    "\n",
    "        else:\n",
    "            # Load image if path is provided\n",
    "            if isinstance(img, str):\n",
    "                img = Image.open(img)\n",
    "            elif isinstance(img, np.ndarray):\n",
    "                # Convert NumPy array to PIL Image\n",
    "                if img.ndim == 3:\n",
    "                    if img.shape[2] == 1:\n",
    "                        # Grayscale image\n",
    "                        img = Image.fromarray(np.squeeze(img, axis=2).astype('uint8'), mode='L')\n",
    "                    elif img.shape[2] == 3:\n",
    "                        # RGB image\n",
    "                        img = Image.fromarray(img.astype('uint8'), mode='RGB')\n",
    "                    else:\n",
    "                        # Handle images with other numbers of channels\n",
    "                        img = Image.fromarray(img[:, :, :3].astype('uint8'), mode='RGB')\n",
    "                elif img.ndim == 2:\n",
    "                    # Grayscale image\n",
    "                    img = Image.fromarray(img.astype('uint8'), mode='L')\n",
    "                else:\n",
    "                    raise ValueError(f\"Unsupported NumPy array shape: {img.shape}\")\n",
    "            elif isinstance(img, Image.Image):\n",
    "                # If it's already a PIL Image, do nothing\n",
    "                pass\n",
    "            else:\n",
    "                raise TypeError(f\"Unsupported image type: {type(img)}\")\n",
    "\n",
    "            # Convert image to the appropriate mode\n",
    "            img = self._convert_image_mode(img)\n",
    "\n",
    "            # Apply transformations\n",
    "            img = self.transform(img).unsqueeze(0).to(self.device)\n",
    "            return img\n",
    "\n",
    "    def _prepare_batch_input(self, images):\n",
    "        \"\"\"\n",
    "        Prepares a batch of images efficiently.\n",
    "\n",
    "        Args:\n",
    "            images: List of image inputs.\n",
    "\n",
    "        Returns:\n",
    "            Tensor: Batch of preprocessed images.\n",
    "        \"\"\"\n",
    "        tensors = []\n",
    "        for img in images:\n",
    "            tensors.append(self._prepare_input(img))\n",
    "        # Concatenate tensors along the batch dimension\n",
    "        batch_tensor = torch.cat(tensors, dim=0)\n",
    "        return batch_tensor\n",
    "\n",
    "    def _convert_image_mode(self, img):\n",
    "        \"\"\"\n",
    "        Converts the image to the appropriate mode based on color_channels.\n",
    "\n",
    "        Args:\n",
    "            img (PIL.Image): Input image.\n",
    "\n",
    "        Returns:\n",
    "            PIL.Image: Image converted to the correct mode.\n",
    "        \"\"\"\n",
    "        if self.color_channels == 1:\n",
    "            # Convert to grayscale if necessary\n",
    "            if img.mode != 'L':\n",
    "                img = img.convert('L')\n",
    "        else:\n",
    "            # Convert to RGB if necessary\n",
    "            if img.mode != 'RGB':\n",
    "                img = img.convert('RGB')\n",
    "        return img\n",
    "\n",
    "    def _compute_embeddings(self, images):\n",
    "        # Prepare batch input\n",
    "        img_batch = self._prepare_batch_input(images)\n",
    "\n",
    "        # Compute embeddings\n",
    "        with torch.no_grad():\n",
    "            embeddings = self.model.forward_once(img_batch)\n",
    "\n",
    "        return embeddings\n",
    "\n",
    "    def _compute_similarity_matrix(self, embeddings1, embeddings2):\n",
    "        \"\"\"\n",
    "        Computes the pairwise cosine similarity matrix between two sets of embeddings.\n",
    "\n",
    "        Args:\n",
    "            embeddings1 (Tensor): Embeddings of the first set (N x D).\n",
    "            embeddings2 (Tensor): Embeddings of the second set (M x D).\n",
    "\n",
    "        Returns:\n",
    "            Tensor: Similarity matrix of size N x M.\n",
    "        \"\"\"\n",
    "        # Normalize embeddings\n",
    "        embeddings1_norm = F.normalize(embeddings1, p=2, dim=1)\n",
    "        embeddings2_norm = F.normalize(embeddings2, p=2, dim=1)\n",
    "\n",
    "        # Compute cosine similarity matrix\n",
    "        similarities = torch.mm(embeddings1_norm, embeddings2_norm.t())\n",
    "\n",
    "        # Flatten to a single vector\n",
    "        similarities = similarities.view(-1).cpu().numpy()\n",
    "\n",
    "        return similarities"
   ]
  },
  {
   "cell_type": "code",
   "execution_count": null,
   "metadata": {},
   "outputs": [],
   "source": []
  },
  {
   "cell_type": "code",
   "execution_count": 83,
   "metadata": {},
   "outputs": [
    {
     "name": "stdout",
     "output_type": "stream",
     "text": [
      "['/Users/tristan/Downloads/For Tristan/data/ForTristan_tracklet_images_single_part0.npz', '/Users/tristan/Downloads/For Tristan/data/ForTristan_tracklet_images_single_part1.npz', '/Users/tristan/Downloads/For Tristan/data/ForTristan_tracklet_images_single_part2.npz', '/Users/tristan/Downloads/For Tristan/data/ForTristan_tracklet_images_single_part3.npz']\n"
     ]
    },
    {
     "name": "stderr",
     "output_type": "stream",
     "text": [
      "100%|██████████| 4/4 [00:01<00:00,  2.29it/s]\n"
     ]
    },
    {
     "name": "stdout",
     "output_type": "stream",
     "text": [
      "(288614, 80, 80, 3) (288614,) (288614,) (288614,) (12253, 2)\n"
     ]
    },
    {
     "name": "stderr",
     "output_type": "stream",
     "text": [
      "100%|██████████| 15/15 [00:05<00:00,  2.70it/s]\n"
     ]
    },
    {
     "name": "stdout",
     "output_type": "stream",
     "text": [
      "(80, 80)\n",
      "Color channels: 3\n"
     ]
    }
   ],
   "source": [
    "from glob import glob\n",
    "import os\n",
    "from sys import dont_write_bytecode\n",
    "\n",
    "import torch\n",
    "from torch.utils.data import Dataset\n",
    "import numpy as np\n",
    "import random\n",
    "\n",
    "class SiameseDatasetFromArrays(Dataset):\n",
    "    def __init__(self, positives, negatives, transform=None):\n",
    "        \"\"\"\n",
    "        Initializes the dataset with positive and negative examples.\n",
    "\n",
    "        Args:\n",
    "            positives (list): List of positive examples.\n",
    "            negatives (list): List of negative examples.\n",
    "            transform (callable, optional): Optional transform to be applied on a sample.\n",
    "        \"\"\"\n",
    "        self.transform = transform\n",
    "        self.data = positives + negatives  # Combine positive and negative examples\n",
    "        random.shuffle(self.data)  # Shuffle the combined data\n",
    "\n",
    "    def __len__(self):\n",
    "        return len(self.data)\n",
    "\n",
    "    def __getitem__(self, idx):\n",
    "        item = self.data[idx]\n",
    "        label, id1, frame1, image1, id2, frame2, image2 = item\n",
    "\n",
    "        # Process images\n",
    "        img1 = self._process_image(image1)\n",
    "        img2 = self._process_image(image2)\n",
    "\n",
    "        label = torch.tensor(label, dtype=torch.float32)\n",
    "        return img1, img2, label\n",
    "\n",
    "    def _process_image(self, image):\n",
    "        #print(image.shape, image.dtype, image.min(), image.max())\n",
    "\n",
    "        # Convert the NumPy array to a tensor\n",
    "        # Expected shape: (H, W, C) or (H, W)\n",
    "        '''if image.ndim == 3:\n",
    "            # Image with channels\n",
    "            image = np.transpose(image, (2, 0, 1))  # Convert to (C, H, W)\n",
    "        elif image.ndim == 2:\n",
    "            # Grayscale image, add channel dimension\n",
    "            image = image[np.newaxis, :, :]\n",
    "        else:\n",
    "            raise ValueError(f\"Unsupported image shape: {image.shape}\")'''\n",
    "\n",
    "        # Convert to float and normalize to [0, 1]\n",
    "        #image = image.astype(np.float32) / 255.0\n",
    "        #print(image.shape)\n",
    "\n",
    "        # Convert to tensor\n",
    "        #img_tensor = torch.from_numpy(image)\n",
    "        if image.shape[-1] == 3:\n",
    "            img_tensor = Image.fromarray(image, 'RGB')\n",
    "        else:\n",
    "            img_tensor = Image.fromarray(image[..., 0], 'L')\n",
    "\n",
    "        # Apply transformations if any\n",
    "        if self.transform:\n",
    "            img_tensor = self.transform(img_tensor)\n",
    "        else:\n",
    "            # Normalize manually if no transform is provided\n",
    "            raise ValueError(\"A transform function is required.\")\n",
    "            img_tensor = (img_tensor - 0.5) / 0.5  # Assuming mean=0.5, std=0.5\n",
    "\n",
    "        return img_tensor\n",
    "\n",
    "root = '/Users/tristan/trex/docs/notebooks/id_dataset'\n",
    "\n",
    "def concatenate_npzs(base, verbose=False):\n",
    "    paths = sorted(glob(base+\"_tracklet_images_single_part*.npz\"))\n",
    "    print(paths)\n",
    "\n",
    "    all_images = []\n",
    "    all_frames = []\n",
    "    all_ids = []\n",
    "    all_frame_segment_indexes = []\n",
    "    all_frame_segments = []\n",
    "\n",
    "    number_of_segments = 0\n",
    "\n",
    "    for path in tqdm(paths):\n",
    "        with np.load(path) as npz:\n",
    "            if verbose:\n",
    "                print(npz.files)\n",
    "                print(npz['ids'].shape) # (192762,)\n",
    "                print(npz['images'].shape) # (192762, 80, 80, 1)\n",
    "\n",
    "            _images = npz['images']\n",
    "            _frames = npz['frames']\n",
    "            _ids = npz['ids']\n",
    "            _frame_segment_indexes = npz['frame_segment_indexes']\n",
    "\n",
    "            for i in range(_frame_segment_indexes.shape[0]):\n",
    "                _frame_segment_indexes[i] += number_of_segments\n",
    "            #_frame_segment_indexes = _frame_segment_indexes + number_of_segments\n",
    "            _frame_segments = npz['frame_segments']\n",
    "            number_of_segments += _frame_segments.shape[0]\n",
    "\n",
    "            all_images.append(_images)\n",
    "            all_frames.append(_frames)\n",
    "            all_ids.append(_ids)\n",
    "            \n",
    "            all_frame_segment_indexes.append(_frame_segment_indexes)\n",
    "            all_frame_segments.append(_frame_segments)\n",
    "\n",
    "            if verbose:\n",
    "                print(f\"loading {path}: {npz['images'].shape} {_frame_segment_indexes.min()} {_frame_segment_indexes.shape}\")\n",
    "\n",
    "    all_images = np.concatenate(all_images, axis=0)\n",
    "    all_frames = np.concatenate(all_frames, axis=0)\n",
    "    all_ids = np.concatenate(all_ids, axis=0)\n",
    "    all_frame_segment_indexes = np.concatenate(all_frame_segment_indexes, axis=0)\n",
    "    # assert that all segment indexes are unique\n",
    "    #assert len(np.unique(all_frame_segment_indexes)) == all_frame_segment_indexes.shape[0]\n",
    "    all_frame_segments = np.concatenate(all_frame_segments, axis=0)\n",
    "\n",
    "    return all_images, all_frames, all_ids, all_frame_segment_indexes, all_frame_segments\n",
    "\n",
    "def load_npz_as_dataset(path, dont_use_these_ids = [], verbose=False, split=0.8):\n",
    "    all_images, all_frames, all_ids, all_frame_segment_indexes, all_frame_segments = concatenate_npzs(path, verbose=verbose)\n",
    "\n",
    "    # print shapes\n",
    "    print(all_images.shape, all_frames.shape, all_ids.shape, all_frame_segment_indexes.shape, all_frame_segments.shape)\n",
    "\n",
    "    all_positives = []\n",
    "    all_negatives = []\n",
    "\n",
    "    # save these images (sorted by id) to folders.\n",
    "    # the root folder is given, then below that we create a folder / id and enumerate\n",
    "    # the images in that folder.\n",
    "\n",
    "    # create a folder for each id\n",
    "    for i, id in enumerate(tqdm(np.unique(all_ids))):\n",
    "        if id in dont_use_these_ids:\n",
    "            continue\n",
    "        folder = os.path.join(root, str(id))\n",
    "        #os.makedirs(folder, exist_ok=True)\n",
    "\n",
    "        mask = all_ids == id\n",
    "        if verbose:\n",
    "            print(f\"id: {all_ids.shape}, images: {all_images[mask].shape}, segments: {all_frame_segments.shape} mask: {mask.shape}\")\n",
    "        _used_indexes = np.unique(all_frame_segment_indexes[mask])\n",
    "\n",
    "        used_indexes = []\n",
    "        for s in _used_indexes:\n",
    "            if s < 0 or s >= all_frame_segments.shape[0]:\n",
    "                continue\n",
    "            used_indexes.append(s)\n",
    "            assert s >= 0 and s < all_frame_segments.shape[0], f\"{s} not in {all_frame_segments.shape}\"\n",
    "\n",
    "        if verbose:\n",
    "            print(f\"id: {id}, images: {all_images[mask].shape}, segments: {all_frame_segments[used_indexes]}\")\n",
    "\n",
    "        # get number of images / frame segment\n",
    "        for s in used_indexes:\n",
    "            mask = all_frame_segment_indexes == s\n",
    "            N = mask.sum()\n",
    "\n",
    "            if verbose:\n",
    "                print(f\"segment: {s}, images: {N} frame_segments: {all_frame_segments.shape}\")\n",
    "            segment = all_frame_segments[s]\n",
    "            L = segment[-1] - segment[0] + 1\n",
    "\n",
    "            if verbose:\n",
    "                print(f\"segment: {segment}, images: {N}, L: {L}\")\n",
    "\n",
    "            if N < 100:\n",
    "                continue\n",
    "\n",
    "            my_frames = all_frames[mask]\n",
    "            my_images = all_images[mask]\n",
    "\n",
    "            # find data of other ids that are in the same frame segment\n",
    "            current_frame_mask = (all_frames == my_frames[len(my_frames) // 2]) & (all_ids != id) & (np.isin(all_ids, dont_use_these_ids, invert=True))\n",
    "            _filtered_ids = np.unique(all_ids[current_frame_mask])\n",
    "            if verbose:\n",
    "                print(_filtered_ids, \"not in\", dont_use_these_ids, np.isin(_filtered_ids, dont_use_these_ids).any())\n",
    "            assert np.isin(id, _filtered_ids).sum() == 0\n",
    "            assert np.isin(_filtered_ids, dont_use_these_ids).any() == False\n",
    "\n",
    "            other_indexes = np.unique(all_frame_segment_indexes[current_frame_mask])\n",
    "            #other_segments = np.array([npz[\"frame_segments\"][idx] for idx in other_indexes])\n",
    "\n",
    "            # calculate the maximum number of positive examples we can get from within\n",
    "            # the same segment and the current individual (while maintaining a min_distance\n",
    "            # between the images):\n",
    "            min_distance = 10\n",
    "            n_positives = max(1, int(L / min_distance / 2))\n",
    "\n",
    "            # sample positives\n",
    "            _frames = my_frames\n",
    "            chosen_frames = np.random.choice(_frames, size=n_positives, replace=False)\n",
    "            chosen_frames = np.sort(chosen_frames)\n",
    "            # remove the chosen frames from the list of all frames\n",
    "            _frames = np.setdiff1d(_frames, chosen_frames)\n",
    "\n",
    "            #print(f\"chosen_frames: {chosen_frames} frames: {_frames}\")\n",
    "\n",
    "            # now sample the positives, removing a used paired image from the list of all frames\n",
    "            positives = []\n",
    "            for frame in chosen_frames:\n",
    "                if len(_frames) == 0:\n",
    "                    print(\"***> no more frames to choose from\")\n",
    "                    break\n",
    "\n",
    "                my_image = my_images[my_frames == frame]\n",
    "                assert len(my_image) == 1\n",
    "                my_image = my_image[0]\n",
    "\n",
    "                # now choose the index of the paired image.\n",
    "                # prefer to choose an image as far away as possible within the same segment\n",
    "                paired_frame = _frames[np.abs(_frames - frame).argmax()]\n",
    "                _frames = np.setdiff1d(_frames, [paired_frame])\n",
    "\n",
    "                paired_image = my_images[my_frames == paired_frame]\n",
    "                assert len(paired_image) == 1\n",
    "\n",
    "                assert not id in dont_use_these_ids\n",
    "\n",
    "                paired_image = paired_image[0]\n",
    "                positives.append((1.0, id, frame, my_image, id, paired_frame, paired_image))\n",
    "\n",
    "            if verbose:\n",
    "                print(f\"\\tpositives: {len(positives)}\")\n",
    "\n",
    "            # sample images from other segments to get negative examples (dissimilar)\n",
    "            # we can assume that since the frame segments overlap, both individuals which\n",
    "            # are visible in the same frame segment are dissimilar. lets sample 10% of the\n",
    "            # length of the current individuals segment as negative examples.\n",
    "            n_negatives = max(1, int(1.0 * len(positives)))\n",
    "\n",
    "            # cache the frames for all other indexes\n",
    "            other_index_masks = {}\n",
    "            for idx in other_indexes:\n",
    "                other_frame_mask = (all_frame_segment_indexes == idx)\n",
    "                ids = np.unique(all_ids[other_frame_mask])\n",
    "                assert len(ids) == 1, f\"more than one id in frame segment when searching for idx {idx}: {ids}\"\n",
    "                assert not ids[0] in dont_use_these_ids\n",
    "                other_index_masks[idx] = (other_frame_mask, ids[0], all_frames[other_frame_mask], all_images[other_frame_mask])\n",
    "\n",
    "            # sample negatives\n",
    "            #print(f\"other_indexes: {len(other_indexes)}\")\n",
    "            if len(other_indexes) == 0:\n",
    "                continue\n",
    "            \n",
    "            chosen_negatives = np.random.randint(0, len(other_indexes), size=n_negatives)\n",
    "            chosen_indexes = other_indexes[chosen_negatives]\n",
    "\n",
    "            negatives = []\n",
    "\n",
    "            for other_index in chosen_indexes:\n",
    "                # sample a random index from that segment\n",
    "                other_frame_mask, other_id, _frames, _images = other_index_masks[other_index]\n",
    "\n",
    "                found = False\n",
    "                for _ in range(5):\n",
    "                    index = np.random.randint(0, len(_images))\n",
    "                    frame = _frames[index]\n",
    "\n",
    "                    my_image = my_images[my_frames == frame]\n",
    "                    if len(my_image) == 0:\n",
    "                        if verbose:\n",
    "                            print(f\"\\t XX frame: {frame} no image found\")\n",
    "                        continue\n",
    "                    else:\n",
    "                        my_image = my_image[0]\n",
    "                        \n",
    "                        if verbose:\n",
    "                            print(f\"\\t => frame: {frame}, image: {len(my_image)} my_images: {my_images.shape}, other_images: {_images.shape}\")\n",
    "                            print(frame, \"in\", my_frames)\n",
    "\n",
    "                            print(f\"\\t\\t my_image: {my_image.shape} other_images: {_images[index].shape}\")\n",
    "\n",
    "                        assert not id in dont_use_these_ids\n",
    "                        assert not other_id in dont_use_these_ids\n",
    "                        \n",
    "                        other_image = (-1.0, id, frame, my_image, other_id, frame, _images[index])\n",
    "                        negatives.append(other_image)\n",
    "                        found = True\n",
    "                        break\n",
    "                \n",
    "                if not found and verbose:\n",
    "                    print(f\"\\t ** frame: {frame} no image found at all\")\n",
    "\n",
    "            if verbose:\n",
    "                print(f\"\\tnegatives: {len(negatives)}\")\n",
    "\n",
    "            all_positives.extend(positives)\n",
    "            all_negatives.extend(negatives)\n",
    "\n",
    "            \n",
    "        #break\n",
    "\n",
    "    for label, id1, frame1, image1, id2, frame2, image2 in all_positives:\n",
    "        assert np.isin([id1, id2], list(dont_use_these_ids)).sum() == 0\n",
    "    \n",
    "    for label, id1, frame1, image1, id2, frame2, image2 in all_negatives:\n",
    "        assert np.isin([id1, id2], list(dont_use_these_ids)).sum() == 0\n",
    "\n",
    "    # Define model parameters\n",
    "    image_size = all_images.shape[1:-1]\n",
    "    print(image_size)\n",
    "\n",
    "    color_channels = all_images.shape[-1]\n",
    "    print(f\"Color channels: {color_channels}\")\n",
    "\n",
    "    # split the data into training and validation sets\n",
    "    split_ratio = split\n",
    "    split_index = int(split_ratio * len(all_positives))\n",
    "\n",
    "    np.random.seed(0)\n",
    "    np.random.shuffle(all_positives)\n",
    "    np.random.shuffle(all_negatives)\n",
    "\n",
    "    train_positives = all_positives[:split_index]\n",
    "    val_positives = all_positives[split_index:]\n",
    "\n",
    "    train_negatives = all_negatives[:split_index]\n",
    "    val_negatives = all_negatives[split_index:]\n",
    "\n",
    "    # Define the model parameters\n",
    "    model_params = {\n",
    "        'image_size': image_size,\n",
    "        'color_channels': color_channels,\n",
    "        'embedding_size': 128\n",
    "    }\n",
    "\n",
    "    transform = transforms.Compose([\n",
    "        transforms.Resize(image_size),\n",
    "        transforms.RandomAffine(degrees=0.05, translate=(0.05, 0.1), scale=None), #(0.99, 1.01)),\n",
    "        #transforms.RandomAutocontrast(),\n",
    "        #transforms.RandAugment(2, 9),\n",
    "        #transforms.RandomHorizontalFlip(),\n",
    "        #transforms.RandomRotation(10),\n",
    "        transforms.ToTensor(),\n",
    "        transforms.Normalize(mean=[0.5] * model_params[\"color_channels\"], std=[0.5] * model_params[\"color_channels\"])\n",
    "    ])\n",
    "\n",
    "    val_dataset = SiameseDatasetFromArrays(\n",
    "        val_positives,\n",
    "        val_negatives,\n",
    "        transform=transform\n",
    "    )\n",
    "\n",
    "    train_dataset = SiameseDatasetFromArrays(\n",
    "        train_positives,\n",
    "        train_negatives,\n",
    "        transform=transform\n",
    "    )\n",
    "\n",
    "    return val_dataset, train_dataset, model_params\n",
    "\n",
    "#val_dataset, train_dataset = load_npz_as_dataset('/Users/tristan/Videos/data/group_1_tracklet_images_single_part0.npz', dont_use_these_ids=[5,3,1])\n",
    "val_dataset, train_dataset, model_params = load_npz_as_dataset('/Users/tristan/Downloads/For Tristan/data/ForTristan', dont_use_these_ids=[])"
   ]
  },
  {
   "cell_type": "code",
   "execution_count": 85,
   "metadata": {},
   "outputs": [
    {
     "name": "stdout",
     "output_type": "stream",
     "text": [
      "Number of classes in training set: 4764\n",
      "Number of classes in validation set: 1018\n",
      "Training on mps, with 3 color channels\n",
      "Starting epoch 1/100\n"
     ]
    },
    {
     "name": "stderr",
     "output_type": "stream",
     "text": [
      "100%|██████████| 75/75 [00:07<00:00, 10.24it/s]\n"
     ]
    },
    {
     "name": "stdout",
     "output_type": "stream",
     "text": [
      "Epoch [1/100] completed. Average Training Loss: 0.4820, Training Accuracy: 0.5248\n"
     ]
    },
    {
     "name": "stderr",
     "output_type": "stream",
     "text": [
      "100%|██████████| 16/16 [00:00<00:00, 23.26it/s]\n"
     ]
    },
    {
     "name": "stdout",
     "output_type": "stream",
     "text": [
      "Epoch [1/100] Validation Loss: 0.4135, Validation Accuracy: 0.5855\n",
      "Validation loss decreased (0.4135). Saving model ...\n",
      "[Callback] Model saved at epoch 1\n",
      "[Callback] Epoch 1 ended.\n",
      "Training Loss: 0.4820, Training Accuracy: 0.5248\n",
      "Validation Loss: 0.4135, Validation Accuracy: 0.5855\n",
      "Starting epoch 2/100\n"
     ]
    },
    {
     "name": "stderr",
     "output_type": "stream",
     "text": [
      "100%|██████████| 75/75 [00:07<00:00, 10.18it/s]\n"
     ]
    },
    {
     "name": "stdout",
     "output_type": "stream",
     "text": [
      "Epoch [2/100] completed. Average Training Loss: 0.4989, Training Accuracy: 0.5000\n"
     ]
    },
    {
     "name": "stderr",
     "output_type": "stream",
     "text": [
      "100%|██████████| 16/16 [00:00<00:00, 23.39it/s]\n"
     ]
    },
    {
     "name": "stdout",
     "output_type": "stream",
     "text": [
      "Epoch [2/100] Validation Loss: 0.4155, Validation Accuracy: 0.5855\n",
      "Epochs without improvement: 1/15\n",
      "[Callback] Epoch 2 ended.\n",
      "Training Loss: 0.4989, Training Accuracy: 0.5000\n",
      "Validation Loss: 0.4155, Validation Accuracy: 0.5855\n",
      "Starting epoch 3/100\n"
     ]
    },
    {
     "name": "stderr",
     "output_type": "stream",
     "text": [
      "100%|██████████| 75/75 [00:07<00:00, 10.17it/s]\n"
     ]
    },
    {
     "name": "stdout",
     "output_type": "stream",
     "text": [
      "Epoch [3/100] completed. Average Training Loss: 0.4775, Training Accuracy: 0.5258\n"
     ]
    },
    {
     "name": "stderr",
     "output_type": "stream",
     "text": [
      "100%|██████████| 16/16 [00:00<00:00, 23.60it/s]\n"
     ]
    },
    {
     "name": "stdout",
     "output_type": "stream",
     "text": [
      "Epoch [3/100] Validation Loss: 0.4053, Validation Accuracy: 0.5923\n",
      "Validation loss decreased (0.4053). Saving model ...\n",
      "[Callback] Model saved at epoch 3\n",
      "[Callback] Epoch 3 ended.\n",
      "Training Loss: 0.4775, Training Accuracy: 0.5258\n",
      "Validation Loss: 0.4053, Validation Accuracy: 0.5923\n",
      "Starting epoch 4/100\n"
     ]
    },
    {
     "name": "stderr",
     "output_type": "stream",
     "text": [
      "100%|██████████| 75/75 [00:07<00:00, 10.14it/s]\n"
     ]
    },
    {
     "name": "stdout",
     "output_type": "stream",
     "text": [
      "Epoch [4/100] completed. Average Training Loss: 0.4741, Training Accuracy: 0.5321\n"
     ]
    },
    {
     "name": "stderr",
     "output_type": "stream",
     "text": [
      "100%|██████████| 16/16 [00:00<00:00, 22.39it/s]\n"
     ]
    },
    {
     "name": "stdout",
     "output_type": "stream",
     "text": [
      "Epoch [4/100] Validation Loss: 0.4106, Validation Accuracy: 0.5884\n",
      "Epochs without improvement: 1/15\n",
      "[Callback] Epoch 4 ended.\n",
      "Training Loss: 0.4741, Training Accuracy: 0.5321\n",
      "Validation Loss: 0.4106, Validation Accuracy: 0.5884\n",
      "Starting epoch 5/100\n"
     ]
    },
    {
     "name": "stderr",
     "output_type": "stream",
     "text": [
      "100%|██████████| 75/75 [00:07<00:00, 10.07it/s]\n"
     ]
    },
    {
     "name": "stdout",
     "output_type": "stream",
     "text": [
      "Epoch [5/100] completed. Average Training Loss: 0.4609, Training Accuracy: 0.5426\n"
     ]
    },
    {
     "name": "stderr",
     "output_type": "stream",
     "text": [
      "100%|██████████| 16/16 [00:00<00:00, 22.96it/s]\n"
     ]
    },
    {
     "name": "stdout",
     "output_type": "stream",
     "text": [
      "Epoch [5/100] Validation Loss: 0.3916, Validation Accuracy: 0.6169\n",
      "Validation loss decreased (0.3916). Saving model ...\n",
      "[Callback] Model saved at epoch 5\n",
      "[Callback] Epoch 5 ended.\n",
      "Training Loss: 0.4609, Training Accuracy: 0.5426\n",
      "Validation Loss: 0.3916, Validation Accuracy: 0.6169\n",
      "Starting epoch 6/100\n"
     ]
    },
    {
     "name": "stderr",
     "output_type": "stream",
     "text": [
      "100%|██████████| 75/75 [00:07<00:00, 10.12it/s]\n"
     ]
    },
    {
     "name": "stdout",
     "output_type": "stream",
     "text": [
      "Epoch [6/100] completed. Average Training Loss: 0.4234, Training Accuracy: 0.5854\n"
     ]
    },
    {
     "name": "stderr",
     "output_type": "stream",
     "text": [
      "100%|██████████| 16/16 [00:00<00:00, 21.59it/s]\n"
     ]
    },
    {
     "name": "stdout",
     "output_type": "stream",
     "text": [
      "Epoch [6/100] Validation Loss: 0.4225, Validation Accuracy: 0.6012\n",
      "Epochs without improvement: 1/15\n",
      "[Callback] Epoch 6 ended.\n",
      "Training Loss: 0.4234, Training Accuracy: 0.5854\n",
      "Validation Loss: 0.4225, Validation Accuracy: 0.6012\n",
      "Starting epoch 7/100\n"
     ]
    },
    {
     "name": "stderr",
     "output_type": "stream",
     "text": [
      "100%|██████████| 75/75 [00:07<00:00, 10.15it/s]\n"
     ]
    },
    {
     "name": "stdout",
     "output_type": "stream",
     "text": [
      "Epoch [7/100] completed. Average Training Loss: 0.4013, Training Accuracy: 0.6085\n"
     ]
    },
    {
     "name": "stderr",
     "output_type": "stream",
     "text": [
      "100%|██████████| 16/16 [00:00<00:00, 23.40it/s]\n"
     ]
    },
    {
     "name": "stdout",
     "output_type": "stream",
     "text": [
      "Epoch [7/100] Validation Loss: 0.4007, Validation Accuracy: 0.6208\n",
      "Epochs without improvement: 2/15\n",
      "[Callback] Epoch 7 ended.\n",
      "Training Loss: 0.4013, Training Accuracy: 0.6085\n",
      "Validation Loss: 0.4007, Validation Accuracy: 0.6208\n",
      "Starting epoch 8/100\n"
     ]
    },
    {
     "name": "stderr",
     "output_type": "stream",
     "text": [
      "100%|██████████| 75/75 [00:07<00:00, 10.11it/s]\n"
     ]
    },
    {
     "name": "stdout",
     "output_type": "stream",
     "text": [
      "Epoch [8/100] completed. Average Training Loss: 0.3840, Training Accuracy: 0.6291\n"
     ]
    },
    {
     "name": "stderr",
     "output_type": "stream",
     "text": [
      "100%|██████████| 16/16 [00:00<00:00, 22.39it/s]\n"
     ]
    },
    {
     "name": "stdout",
     "output_type": "stream",
     "text": [
      "Epoch [8/100] Validation Loss: 0.3842, Validation Accuracy: 0.6238\n",
      "Validation loss decreased (0.3842). Saving model ...\n",
      "[Callback] Model saved at epoch 8\n",
      "[Callback] Epoch 8 ended.\n",
      "Training Loss: 0.3840, Training Accuracy: 0.6291\n",
      "Validation Loss: 0.3842, Validation Accuracy: 0.6238\n",
      "Starting epoch 9/100\n"
     ]
    },
    {
     "name": "stderr",
     "output_type": "stream",
     "text": [
      "100%|██████████| 75/75 [00:07<00:00, 10.11it/s]\n"
     ]
    },
    {
     "name": "stdout",
     "output_type": "stream",
     "text": [
      "Epoch [9/100] completed. Average Training Loss: 0.3735, Training Accuracy: 0.6404\n"
     ]
    },
    {
     "name": "stderr",
     "output_type": "stream",
     "text": [
      "100%|██████████| 16/16 [00:00<00:00, 22.86it/s]\n"
     ]
    },
    {
     "name": "stdout",
     "output_type": "stream",
     "text": [
      "Epoch [9/100] Validation Loss: 0.3583, Validation Accuracy: 0.6611\n",
      "Validation loss decreased (0.3583). Saving model ...\n",
      "[Callback] Model saved at epoch 9\n",
      "[Callback] Epoch 9 ended.\n",
      "Training Loss: 0.3735, Training Accuracy: 0.6404\n",
      "Validation Loss: 0.3583, Validation Accuracy: 0.6611\n",
      "Starting epoch 10/100\n"
     ]
    },
    {
     "name": "stderr",
     "output_type": "stream",
     "text": [
      "100%|██████████| 75/75 [00:07<00:00, 10.15it/s]\n"
     ]
    },
    {
     "name": "stdout",
     "output_type": "stream",
     "text": [
      "Epoch [10/100] completed. Average Training Loss: 0.3648, Training Accuracy: 0.6513\n"
     ]
    },
    {
     "name": "stderr",
     "output_type": "stream",
     "text": [
      "100%|██████████| 16/16 [00:00<00:00, 22.85it/s]\n"
     ]
    },
    {
     "name": "stdout",
     "output_type": "stream",
     "text": [
      "Epoch [10/100] Validation Loss: 0.3460, Validation Accuracy: 0.6807\n",
      "Validation loss decreased (0.3460). Saving model ...\n",
      "[Callback] Model saved at epoch 10\n",
      "[Callback] Epoch 10 ended.\n",
      "Training Loss: 0.3648, Training Accuracy: 0.6513\n",
      "Validation Loss: 0.3460, Validation Accuracy: 0.6807\n",
      "Starting epoch 11/100\n"
     ]
    },
    {
     "name": "stderr",
     "output_type": "stream",
     "text": [
      "100%|██████████| 75/75 [00:07<00:00, 10.08it/s]\n"
     ]
    },
    {
     "name": "stdout",
     "output_type": "stream",
     "text": [
      "Epoch [11/100] completed. Average Training Loss: 0.3694, Training Accuracy: 0.6442\n"
     ]
    },
    {
     "name": "stderr",
     "output_type": "stream",
     "text": [
      "100%|██████████| 16/16 [00:00<00:00, 22.21it/s]\n"
     ]
    },
    {
     "name": "stdout",
     "output_type": "stream",
     "text": [
      "Epoch [11/100] Validation Loss: 0.3556, Validation Accuracy: 0.6572\n",
      "Epochs without improvement: 1/15\n",
      "[Callback] Epoch 11 ended.\n",
      "Training Loss: 0.3694, Training Accuracy: 0.6442\n",
      "Validation Loss: 0.3556, Validation Accuracy: 0.6572\n",
      "Starting epoch 12/100\n"
     ]
    },
    {
     "name": "stderr",
     "output_type": "stream",
     "text": [
      "100%|██████████| 75/75 [00:07<00:00,  9.66it/s]\n"
     ]
    },
    {
     "name": "stdout",
     "output_type": "stream",
     "text": [
      "Epoch [12/100] completed. Average Training Loss: 0.3500, Training Accuracy: 0.6669\n"
     ]
    },
    {
     "name": "stderr",
     "output_type": "stream",
     "text": [
      "100%|██████████| 16/16 [00:00<00:00, 21.18it/s]\n"
     ]
    },
    {
     "name": "stdout",
     "output_type": "stream",
     "text": [
      "Epoch [12/100] Validation Loss: 0.3366, Validation Accuracy: 0.6847\n",
      "Validation loss decreased (0.3366). Saving model ...\n",
      "[Callback] Model saved at epoch 12\n",
      "[Callback] Epoch 12 ended.\n",
      "Training Loss: 0.3500, Training Accuracy: 0.6669\n",
      "Validation Loss: 0.3366, Validation Accuracy: 0.6847\n",
      "Starting epoch 13/100\n"
     ]
    },
    {
     "name": "stderr",
     "output_type": "stream",
     "text": [
      "100%|██████████| 75/75 [00:07<00:00, 10.07it/s]\n"
     ]
    },
    {
     "name": "stdout",
     "output_type": "stream",
     "text": [
      "Epoch [13/100] completed. Average Training Loss: 0.3489, Training Accuracy: 0.6700\n"
     ]
    },
    {
     "name": "stderr",
     "output_type": "stream",
     "text": [
      "100%|██████████| 16/16 [00:00<00:00, 22.87it/s]\n"
     ]
    },
    {
     "name": "stdout",
     "output_type": "stream",
     "text": [
      "Epoch [13/100] Validation Loss: 0.3117, Validation Accuracy: 0.7161\n",
      "Validation loss decreased (0.3117). Saving model ...\n",
      "[Callback] Model saved at epoch 13\n",
      "[Callback] Epoch 13 ended.\n",
      "Training Loss: 0.3489, Training Accuracy: 0.6700\n",
      "Validation Loss: 0.3117, Validation Accuracy: 0.7161\n",
      "Starting epoch 14/100\n"
     ]
    },
    {
     "name": "stderr",
     "output_type": "stream",
     "text": [
      "100%|██████████| 75/75 [00:07<00:00, 10.17it/s]\n"
     ]
    },
    {
     "name": "stdout",
     "output_type": "stream",
     "text": [
      "Epoch [14/100] completed. Average Training Loss: 0.3352, Training Accuracy: 0.6816\n"
     ]
    },
    {
     "name": "stderr",
     "output_type": "stream",
     "text": [
      "100%|██████████| 16/16 [00:00<00:00, 23.06it/s]\n"
     ]
    },
    {
     "name": "stdout",
     "output_type": "stream",
     "text": [
      "Epoch [14/100] Validation Loss: 0.2937, Validation Accuracy: 0.7358\n",
      "Validation loss decreased (0.2937). Saving model ...\n",
      "[Callback] Model saved at epoch 14\n",
      "[Callback] Epoch 14 ended.\n",
      "Training Loss: 0.3352, Training Accuracy: 0.6816\n",
      "Validation Loss: 0.2937, Validation Accuracy: 0.7358\n",
      "Starting epoch 15/100\n"
     ]
    },
    {
     "name": "stderr",
     "output_type": "stream",
     "text": [
      "100%|██████████| 75/75 [00:07<00:00, 10.26it/s]\n"
     ]
    },
    {
     "name": "stdout",
     "output_type": "stream",
     "text": [
      "Epoch [15/100] completed. Average Training Loss: 0.3347, Training Accuracy: 0.6835\n"
     ]
    },
    {
     "name": "stderr",
     "output_type": "stream",
     "text": [
      "100%|██████████| 16/16 [00:00<00:00, 20.82it/s]\n"
     ]
    },
    {
     "name": "stdout",
     "output_type": "stream",
     "text": [
      "Epoch [15/100] Validation Loss: 0.3422, Validation Accuracy: 0.6768\n",
      "Epochs without improvement: 1/15\n",
      "[Callback] Epoch 15 ended.\n",
      "Training Loss: 0.3347, Training Accuracy: 0.6835\n",
      "Validation Loss: 0.3422, Validation Accuracy: 0.6768\n",
      "Starting epoch 16/100\n"
     ]
    },
    {
     "name": "stderr",
     "output_type": "stream",
     "text": [
      "100%|██████████| 75/75 [00:07<00:00,  9.80it/s]\n"
     ]
    },
    {
     "name": "stdout",
     "output_type": "stream",
     "text": [
      "Epoch [16/100] completed. Average Training Loss: 0.3292, Training Accuracy: 0.6908\n"
     ]
    },
    {
     "name": "stderr",
     "output_type": "stream",
     "text": [
      "100%|██████████| 16/16 [00:00<00:00, 22.76it/s]\n"
     ]
    },
    {
     "name": "stdout",
     "output_type": "stream",
     "text": [
      "Epoch [16/100] Validation Loss: 0.3138, Validation Accuracy: 0.7151\n",
      "Epochs without improvement: 2/15\n",
      "[Callback] Epoch 16 ended.\n",
      "Training Loss: 0.3292, Training Accuracy: 0.6908\n",
      "Validation Loss: 0.3138, Validation Accuracy: 0.7151\n",
      "Starting epoch 17/100\n"
     ]
    },
    {
     "name": "stderr",
     "output_type": "stream",
     "text": [
      "100%|██████████| 75/75 [00:07<00:00,  9.84it/s]\n"
     ]
    },
    {
     "name": "stdout",
     "output_type": "stream",
     "text": [
      "Epoch [17/100] completed. Average Training Loss: 0.3233, Training Accuracy: 0.6979\n"
     ]
    },
    {
     "name": "stderr",
     "output_type": "stream",
     "text": [
      "100%|██████████| 16/16 [00:00<00:00, 22.79it/s]\n"
     ]
    },
    {
     "name": "stdout",
     "output_type": "stream",
     "text": [
      "Epoch [17/100] Validation Loss: 0.3192, Validation Accuracy: 0.6965\n",
      "Epochs without improvement: 3/15\n",
      "[Callback] Epoch 17 ended.\n",
      "Training Loss: 0.3233, Training Accuracy: 0.6979\n",
      "Validation Loss: 0.3192, Validation Accuracy: 0.6965\n",
      "Starting epoch 18/100\n"
     ]
    },
    {
     "name": "stderr",
     "output_type": "stream",
     "text": [
      "100%|██████████| 75/75 [00:07<00:00, 10.13it/s]\n"
     ]
    },
    {
     "name": "stdout",
     "output_type": "stream",
     "text": [
      "Epoch [18/100] completed. Average Training Loss: 0.2998, Training Accuracy: 0.7244\n"
     ]
    },
    {
     "name": "stderr",
     "output_type": "stream",
     "text": [
      "100%|██████████| 16/16 [00:00<00:00, 22.46it/s]\n"
     ]
    },
    {
     "name": "stdout",
     "output_type": "stream",
     "text": [
      "Epoch [18/100] Validation Loss: 0.2741, Validation Accuracy: 0.7583\n",
      "Validation loss decreased (0.2741). Saving model ...\n",
      "[Callback] Model saved at epoch 18\n",
      "[Callback] Epoch 18 ended.\n",
      "Training Loss: 0.2998, Training Accuracy: 0.7244\n",
      "Validation Loss: 0.2741, Validation Accuracy: 0.7583\n",
      "Starting epoch 19/100\n"
     ]
    },
    {
     "name": "stderr",
     "output_type": "stream",
     "text": [
      "100%|██████████| 75/75 [00:07<00:00, 10.12it/s]\n"
     ]
    },
    {
     "name": "stdout",
     "output_type": "stream",
     "text": [
      "Epoch [19/100] completed. Average Training Loss: 0.2932, Training Accuracy: 0.7328\n"
     ]
    },
    {
     "name": "stderr",
     "output_type": "stream",
     "text": [
      "100%|██████████| 16/16 [00:00<00:00, 23.10it/s]\n"
     ]
    },
    {
     "name": "stdout",
     "output_type": "stream",
     "text": [
      "Epoch [19/100] Validation Loss: 0.2744, Validation Accuracy: 0.7623\n",
      "Epochs without improvement: 1/15\n",
      "[Callback] Epoch 19 ended.\n",
      "Training Loss: 0.2932, Training Accuracy: 0.7328\n",
      "Validation Loss: 0.2744, Validation Accuracy: 0.7623\n",
      "Starting epoch 20/100\n"
     ]
    },
    {
     "name": "stderr",
     "output_type": "stream",
     "text": [
      "100%|██████████| 75/75 [00:07<00:00, 10.13it/s]\n"
     ]
    },
    {
     "name": "stdout",
     "output_type": "stream",
     "text": [
      "Epoch [20/100] completed. Average Training Loss: 0.2869, Training Accuracy: 0.7401\n"
     ]
    },
    {
     "name": "stderr",
     "output_type": "stream",
     "text": [
      "100%|██████████| 16/16 [00:00<00:00, 22.66it/s]\n"
     ]
    },
    {
     "name": "stdout",
     "output_type": "stream",
     "text": [
      "Epoch [20/100] Validation Loss: 0.2700, Validation Accuracy: 0.7652\n",
      "Validation loss decreased (0.2700). Saving model ...\n",
      "[Callback] Model saved at epoch 20\n",
      "[Callback] Epoch 20 ended.\n",
      "Training Loss: 0.2869, Training Accuracy: 0.7401\n",
      "Validation Loss: 0.2700, Validation Accuracy: 0.7652\n",
      "Starting epoch 21/100\n"
     ]
    },
    {
     "name": "stderr",
     "output_type": "stream",
     "text": [
      "100%|██████████| 75/75 [00:07<00:00, 10.09it/s]\n"
     ]
    },
    {
     "name": "stdout",
     "output_type": "stream",
     "text": [
      "Epoch [21/100] completed. Average Training Loss: 0.2831, Training Accuracy: 0.7422\n"
     ]
    },
    {
     "name": "stderr",
     "output_type": "stream",
     "text": [
      "100%|██████████| 16/16 [00:00<00:00, 21.59it/s]\n"
     ]
    },
    {
     "name": "stdout",
     "output_type": "stream",
     "text": [
      "Epoch [21/100] Validation Loss: 0.2672, Validation Accuracy: 0.7711\n",
      "Validation loss decreased (0.2672). Saving model ...\n",
      "[Callback] Model saved at epoch 21\n",
      "[Callback] Epoch 21 ended.\n",
      "Training Loss: 0.2831, Training Accuracy: 0.7422\n",
      "Validation Loss: 0.2672, Validation Accuracy: 0.7711\n",
      "Starting epoch 22/100\n"
     ]
    },
    {
     "name": "stderr",
     "output_type": "stream",
     "text": [
      "100%|██████████| 75/75 [00:07<00:00,  9.68it/s]\n"
     ]
    },
    {
     "name": "stdout",
     "output_type": "stream",
     "text": [
      "Epoch [22/100] completed. Average Training Loss: 0.2822, Training Accuracy: 0.7427\n"
     ]
    },
    {
     "name": "stderr",
     "output_type": "stream",
     "text": [
      "100%|██████████| 16/16 [00:00<00:00, 21.44it/s]\n"
     ]
    },
    {
     "name": "stdout",
     "output_type": "stream",
     "text": [
      "Epoch [22/100] Validation Loss: 0.2774, Validation Accuracy: 0.7711\n",
      "Epochs without improvement: 1/15\n",
      "[Callback] Epoch 22 ended.\n",
      "Training Loss: 0.2822, Training Accuracy: 0.7427\n",
      "Validation Loss: 0.2774, Validation Accuracy: 0.7711\n",
      "Starting epoch 23/100\n"
     ]
    },
    {
     "name": "stderr",
     "output_type": "stream",
     "text": [
      "100%|██████████| 75/75 [00:07<00:00,  9.76it/s]\n"
     ]
    },
    {
     "name": "stdout",
     "output_type": "stream",
     "text": [
      "Epoch [23/100] completed. Average Training Loss: 0.2783, Training Accuracy: 0.7473\n"
     ]
    },
    {
     "name": "stderr",
     "output_type": "stream",
     "text": [
      "100%|██████████| 16/16 [00:00<00:00, 20.82it/s]\n"
     ]
    },
    {
     "name": "stdout",
     "output_type": "stream",
     "text": [
      "Epoch [23/100] Validation Loss: 0.2618, Validation Accuracy: 0.7652\n",
      "Validation loss decreased (0.2618). Saving model ...\n",
      "[Callback] Model saved at epoch 23\n",
      "[Callback] Epoch 23 ended.\n",
      "Training Loss: 0.2783, Training Accuracy: 0.7473\n",
      "Validation Loss: 0.2618, Validation Accuracy: 0.7652\n",
      "Starting epoch 24/100\n"
     ]
    },
    {
     "name": "stderr",
     "output_type": "stream",
     "text": [
      "100%|██████████| 75/75 [00:07<00:00,  9.73it/s]\n"
     ]
    },
    {
     "name": "stdout",
     "output_type": "stream",
     "text": [
      "Epoch [24/100] completed. Average Training Loss: 0.2791, Training Accuracy: 0.7485\n"
     ]
    },
    {
     "name": "stderr",
     "output_type": "stream",
     "text": [
      "100%|██████████| 16/16 [00:00<00:00, 22.25it/s]\n"
     ]
    },
    {
     "name": "stdout",
     "output_type": "stream",
     "text": [
      "Epoch [24/100] Validation Loss: 0.2642, Validation Accuracy: 0.7642\n",
      "Epochs without improvement: 1/15\n",
      "[Callback] Epoch 24 ended.\n",
      "Training Loss: 0.2791, Training Accuracy: 0.7485\n",
      "Validation Loss: 0.2642, Validation Accuracy: 0.7642\n",
      "Starting epoch 25/100\n"
     ]
    },
    {
     "name": "stderr",
     "output_type": "stream",
     "text": [
      "100%|██████████| 75/75 [00:07<00:00,  9.77it/s]\n"
     ]
    },
    {
     "name": "stdout",
     "output_type": "stream",
     "text": [
      "Epoch [25/100] completed. Average Training Loss: 0.2719, Training Accuracy: 0.7582\n"
     ]
    },
    {
     "name": "stderr",
     "output_type": "stream",
     "text": [
      "100%|██████████| 16/16 [00:00<00:00, 22.12it/s]\n"
     ]
    },
    {
     "name": "stdout",
     "output_type": "stream",
     "text": [
      "Epoch [25/100] Validation Loss: 0.2536, Validation Accuracy: 0.7898\n",
      "Validation loss decreased (0.2536). Saving model ...\n",
      "[Callback] Model saved at epoch 25\n",
      "[Callback] Epoch 25 ended.\n",
      "Training Loss: 0.2719, Training Accuracy: 0.7582\n",
      "Validation Loss: 0.2536, Validation Accuracy: 0.7898\n",
      "Starting epoch 26/100\n"
     ]
    },
    {
     "name": "stderr",
     "output_type": "stream",
     "text": [
      "100%|██████████| 75/75 [00:07<00:00,  9.69it/s]\n"
     ]
    },
    {
     "name": "stdout",
     "output_type": "stream",
     "text": [
      "Epoch [26/100] completed. Average Training Loss: 0.2686, Training Accuracy: 0.7565\n"
     ]
    },
    {
     "name": "stderr",
     "output_type": "stream",
     "text": [
      "100%|██████████| 16/16 [00:00<00:00, 21.35it/s]\n"
     ]
    },
    {
     "name": "stdout",
     "output_type": "stream",
     "text": [
      "Epoch [26/100] Validation Loss: 0.2550, Validation Accuracy: 0.7760\n",
      "Epochs without improvement: 1/15\n",
      "[Callback] Epoch 26 ended.\n",
      "Training Loss: 0.2686, Training Accuracy: 0.7565\n",
      "Validation Loss: 0.2550, Validation Accuracy: 0.7760\n",
      "Starting epoch 27/100\n"
     ]
    },
    {
     "name": "stderr",
     "output_type": "stream",
     "text": [
      "100%|██████████| 75/75 [00:07<00:00,  9.71it/s]\n"
     ]
    },
    {
     "name": "stdout",
     "output_type": "stream",
     "text": [
      "Epoch [27/100] completed. Average Training Loss: 0.2722, Training Accuracy: 0.7523\n"
     ]
    },
    {
     "name": "stderr",
     "output_type": "stream",
     "text": [
      "100%|██████████| 16/16 [00:00<00:00, 22.28it/s]\n"
     ]
    },
    {
     "name": "stdout",
     "output_type": "stream",
     "text": [
      "Epoch [27/100] Validation Loss: 0.2578, Validation Accuracy: 0.7859\n",
      "Epochs without improvement: 2/15\n",
      "[Callback] Epoch 27 ended.\n",
      "Training Loss: 0.2722, Training Accuracy: 0.7523\n",
      "Validation Loss: 0.2578, Validation Accuracy: 0.7859\n",
      "Starting epoch 28/100\n"
     ]
    },
    {
     "name": "stderr",
     "output_type": "stream",
     "text": [
      "100%|██████████| 75/75 [00:07<00:00,  9.74it/s]\n"
     ]
    },
    {
     "name": "stdout",
     "output_type": "stream",
     "text": [
      "Epoch [28/100] completed. Average Training Loss: 0.2678, Training Accuracy: 0.7580\n"
     ]
    },
    {
     "name": "stderr",
     "output_type": "stream",
     "text": [
      "100%|██████████| 16/16 [00:00<00:00, 22.60it/s]\n"
     ]
    },
    {
     "name": "stdout",
     "output_type": "stream",
     "text": [
      "Epoch [28/100] Validation Loss: 0.2729, Validation Accuracy: 0.7711\n",
      "Epochs without improvement: 3/15\n",
      "[Callback] Epoch 28 ended.\n",
      "Training Loss: 0.2678, Training Accuracy: 0.7580\n",
      "Validation Loss: 0.2729, Validation Accuracy: 0.7711\n",
      "Starting epoch 29/100\n"
     ]
    },
    {
     "name": "stderr",
     "output_type": "stream",
     "text": [
      "100%|██████████| 75/75 [00:07<00:00,  9.72it/s]\n"
     ]
    },
    {
     "name": "stdout",
     "output_type": "stream",
     "text": [
      "Epoch [29/100] completed. Average Training Loss: 0.2620, Training Accuracy: 0.7687\n"
     ]
    },
    {
     "name": "stderr",
     "output_type": "stream",
     "text": [
      "100%|██████████| 16/16 [00:00<00:00, 20.83it/s]\n"
     ]
    },
    {
     "name": "stdout",
     "output_type": "stream",
     "text": [
      "Epoch [29/100] Validation Loss: 0.2490, Validation Accuracy: 0.7888\n",
      "Validation loss decreased (0.2490). Saving model ...\n",
      "[Callback] Model saved at epoch 29\n",
      "[Callback] Epoch 29 ended.\n",
      "Training Loss: 0.2620, Training Accuracy: 0.7687\n",
      "Validation Loss: 0.2490, Validation Accuracy: 0.7888\n",
      "Starting epoch 30/100\n"
     ]
    },
    {
     "name": "stderr",
     "output_type": "stream",
     "text": [
      "100%|██████████| 75/75 [00:07<00:00,  9.72it/s]\n"
     ]
    },
    {
     "name": "stdout",
     "output_type": "stream",
     "text": [
      "Epoch [30/100] completed. Average Training Loss: 0.2541, Training Accuracy: 0.7769\n"
     ]
    },
    {
     "name": "stderr",
     "output_type": "stream",
     "text": [
      "100%|██████████| 16/16 [00:00<00:00, 22.47it/s]\n"
     ]
    },
    {
     "name": "stdout",
     "output_type": "stream",
     "text": [
      "Epoch [30/100] Validation Loss: 0.2455, Validation Accuracy: 0.7878\n",
      "Validation loss decreased (0.2455). Saving model ...\n",
      "[Callback] Model saved at epoch 30\n",
      "[Callback] Epoch 30 ended.\n",
      "Training Loss: 0.2541, Training Accuracy: 0.7769\n",
      "Validation Loss: 0.2455, Validation Accuracy: 0.7878\n",
      "Starting epoch 31/100\n"
     ]
    },
    {
     "name": "stderr",
     "output_type": "stream",
     "text": [
      "100%|██████████| 75/75 [00:07<00:00,  9.76it/s]\n"
     ]
    },
    {
     "name": "stdout",
     "output_type": "stream",
     "text": [
      "Epoch [31/100] completed. Average Training Loss: 0.2591, Training Accuracy: 0.7651\n"
     ]
    },
    {
     "name": "stderr",
     "output_type": "stream",
     "text": [
      "100%|██████████| 16/16 [00:00<00:00, 22.25it/s]\n"
     ]
    },
    {
     "name": "stdout",
     "output_type": "stream",
     "text": [
      "Epoch [31/100] Validation Loss: 0.2516, Validation Accuracy: 0.7878\n",
      "Epochs without improvement: 1/15\n",
      "[Callback] Epoch 31 ended.\n",
      "Training Loss: 0.2591, Training Accuracy: 0.7651\n",
      "Validation Loss: 0.2516, Validation Accuracy: 0.7878\n",
      "Starting epoch 32/100\n"
     ]
    },
    {
     "name": "stderr",
     "output_type": "stream",
     "text": [
      "100%|██████████| 75/75 [00:07<00:00,  9.71it/s]\n"
     ]
    },
    {
     "name": "stdout",
     "output_type": "stream",
     "text": [
      "Epoch [32/100] completed. Average Training Loss: 0.2565, Training Accuracy: 0.7731\n"
     ]
    },
    {
     "name": "stderr",
     "output_type": "stream",
     "text": [
      "100%|██████████| 16/16 [00:00<00:00, 20.53it/s]\n"
     ]
    },
    {
     "name": "stdout",
     "output_type": "stream",
     "text": [
      "Epoch [32/100] Validation Loss: 0.2482, Validation Accuracy: 0.7917\n",
      "Epochs without improvement: 2/15\n",
      "[Callback] Epoch 32 ended.\n",
      "Training Loss: 0.2565, Training Accuracy: 0.7731\n",
      "Validation Loss: 0.2482, Validation Accuracy: 0.7917\n",
      "Starting epoch 33/100\n"
     ]
    },
    {
     "name": "stderr",
     "output_type": "stream",
     "text": [
      "100%|██████████| 75/75 [00:07<00:00,  9.71it/s]\n"
     ]
    },
    {
     "name": "stdout",
     "output_type": "stream",
     "text": [
      "Epoch [33/100] completed. Average Training Loss: 0.2604, Training Accuracy: 0.7655\n"
     ]
    },
    {
     "name": "stderr",
     "output_type": "stream",
     "text": [
      "100%|██████████| 16/16 [00:00<00:00, 22.69it/s]\n"
     ]
    },
    {
     "name": "stdout",
     "output_type": "stream",
     "text": [
      "Epoch [33/100] Validation Loss: 0.2453, Validation Accuracy: 0.7898\n",
      "Validation loss decreased (0.2453). Saving model ...\n",
      "[Callback] Model saved at epoch 33\n",
      "[Callback] Epoch 33 ended.\n",
      "Training Loss: 0.2604, Training Accuracy: 0.7655\n",
      "Validation Loss: 0.2453, Validation Accuracy: 0.7898\n",
      "Starting epoch 34/100\n"
     ]
    },
    {
     "name": "stderr",
     "output_type": "stream",
     "text": [
      "100%|██████████| 75/75 [00:07<00:00,  9.69it/s]\n"
     ]
    },
    {
     "name": "stdout",
     "output_type": "stream",
     "text": [
      "Epoch [34/100] completed. Average Training Loss: 0.2577, Training Accuracy: 0.7645\n"
     ]
    },
    {
     "name": "stderr",
     "output_type": "stream",
     "text": [
      "100%|██████████| 16/16 [00:00<00:00, 22.52it/s]\n"
     ]
    },
    {
     "name": "stdout",
     "output_type": "stream",
     "text": [
      "Epoch [34/100] Validation Loss: 0.2532, Validation Accuracy: 0.7780\n",
      "Epochs without improvement: 1/15\n",
      "[Callback] Epoch 34 ended.\n",
      "Training Loss: 0.2577, Training Accuracy: 0.7645\n",
      "Validation Loss: 0.2532, Validation Accuracy: 0.7780\n",
      "Starting epoch 35/100\n"
     ]
    },
    {
     "name": "stderr",
     "output_type": "stream",
     "text": [
      "100%|██████████| 75/75 [00:07<00:00,  9.74it/s]\n"
     ]
    },
    {
     "name": "stdout",
     "output_type": "stream",
     "text": [
      "Epoch [35/100] completed. Average Training Loss: 0.2593, Training Accuracy: 0.7716\n"
     ]
    },
    {
     "name": "stderr",
     "output_type": "stream",
     "text": [
      "100%|██████████| 16/16 [00:00<00:00, 22.00it/s]\n"
     ]
    },
    {
     "name": "stdout",
     "output_type": "stream",
     "text": [
      "Epoch [35/100] Validation Loss: 0.2480, Validation Accuracy: 0.7859\n",
      "Epochs without improvement: 2/15\n",
      "[Callback] Epoch 35 ended.\n",
      "Training Loss: 0.2593, Training Accuracy: 0.7716\n",
      "Validation Loss: 0.2480, Validation Accuracy: 0.7859\n",
      "Starting epoch 36/100\n"
     ]
    },
    {
     "name": "stderr",
     "output_type": "stream",
     "text": [
      "100%|██████████| 75/75 [00:07<00:00,  9.79it/s]\n"
     ]
    },
    {
     "name": "stdout",
     "output_type": "stream",
     "text": [
      "Epoch [36/100] completed. Average Training Loss: 0.2542, Training Accuracy: 0.7704\n"
     ]
    },
    {
     "name": "stderr",
     "output_type": "stream",
     "text": [
      "100%|██████████| 16/16 [00:00<00:00, 20.62it/s]\n"
     ]
    },
    {
     "name": "stdout",
     "output_type": "stream",
     "text": [
      "Epoch [36/100] Validation Loss: 0.2480, Validation Accuracy: 0.7898\n",
      "Epochs without improvement: 3/15\n",
      "[Callback] Epoch 36 ended.\n",
      "Training Loss: 0.2542, Training Accuracy: 0.7704\n",
      "Validation Loss: 0.2480, Validation Accuracy: 0.7898\n",
      "Starting epoch 37/100\n"
     ]
    },
    {
     "name": "stderr",
     "output_type": "stream",
     "text": [
      "100%|██████████| 75/75 [00:07<00:00,  9.72it/s]\n"
     ]
    },
    {
     "name": "stdout",
     "output_type": "stream",
     "text": [
      "Epoch [37/100] completed. Average Training Loss: 0.2598, Training Accuracy: 0.7670\n"
     ]
    },
    {
     "name": "stderr",
     "output_type": "stream",
     "text": [
      "100%|██████████| 16/16 [00:00<00:00, 22.64it/s]\n"
     ]
    },
    {
     "name": "stdout",
     "output_type": "stream",
     "text": [
      "Epoch [37/100] Validation Loss: 0.2489, Validation Accuracy: 0.7888\n",
      "Epochs without improvement: 4/15\n",
      "[Callback] Epoch 37 ended.\n",
      "Training Loss: 0.2598, Training Accuracy: 0.7670\n",
      "Validation Loss: 0.2489, Validation Accuracy: 0.7888\n",
      "Starting epoch 38/100\n"
     ]
    },
    {
     "name": "stderr",
     "output_type": "stream",
     "text": [
      "100%|██████████| 75/75 [00:07<00:00,  9.76it/s]\n"
     ]
    },
    {
     "name": "stdout",
     "output_type": "stream",
     "text": [
      "Epoch [38/100] completed. Average Training Loss: 0.2590, Training Accuracy: 0.7674\n"
     ]
    },
    {
     "name": "stderr",
     "output_type": "stream",
     "text": [
      "100%|██████████| 16/16 [00:00<00:00, 22.89it/s]\n"
     ]
    },
    {
     "name": "stdout",
     "output_type": "stream",
     "text": [
      "Epoch [38/100] Validation Loss: 0.2433, Validation Accuracy: 0.7976\n",
      "Validation loss decreased (0.2433). Saving model ...\n",
      "[Callback] Model saved at epoch 38\n",
      "[Callback] Epoch 38 ended.\n",
      "Training Loss: 0.2590, Training Accuracy: 0.7674\n",
      "Validation Loss: 0.2433, Validation Accuracy: 0.7976\n",
      "Starting epoch 39/100\n"
     ]
    },
    {
     "name": "stderr",
     "output_type": "stream",
     "text": [
      "100%|██████████| 75/75 [00:07<00:00,  9.74it/s]\n"
     ]
    },
    {
     "name": "stdout",
     "output_type": "stream",
     "text": [
      "Epoch [39/100] completed. Average Training Loss: 0.2562, Training Accuracy: 0.7699\n"
     ]
    },
    {
     "name": "stderr",
     "output_type": "stream",
     "text": [
      "100%|██████████| 16/16 [00:00<00:00, 21.45it/s]\n"
     ]
    },
    {
     "name": "stdout",
     "output_type": "stream",
     "text": [
      "Epoch [39/100] Validation Loss: 0.2492, Validation Accuracy: 0.7849\n",
      "Epochs without improvement: 1/15\n",
      "[Callback] Epoch 39 ended.\n",
      "Training Loss: 0.2562, Training Accuracy: 0.7699\n",
      "Validation Loss: 0.2492, Validation Accuracy: 0.7849\n",
      "Starting epoch 40/100\n"
     ]
    },
    {
     "name": "stderr",
     "output_type": "stream",
     "text": [
      "100%|██████████| 75/75 [00:07<00:00,  9.71it/s]\n"
     ]
    },
    {
     "name": "stdout",
     "output_type": "stream",
     "text": [
      "Epoch [40/100] completed. Average Training Loss: 0.2538, Training Accuracy: 0.7714\n"
     ]
    },
    {
     "name": "stderr",
     "output_type": "stream",
     "text": [
      "100%|██████████| 16/16 [00:00<00:00, 22.23it/s]\n"
     ]
    },
    {
     "name": "stdout",
     "output_type": "stream",
     "text": [
      "Epoch [40/100] Validation Loss: 0.2457, Validation Accuracy: 0.7859\n",
      "Epochs without improvement: 2/15\n",
      "[Callback] Epoch 40 ended.\n",
      "Training Loss: 0.2538, Training Accuracy: 0.7714\n",
      "Validation Loss: 0.2457, Validation Accuracy: 0.7859\n",
      "Starting epoch 41/100\n"
     ]
    },
    {
     "name": "stderr",
     "output_type": "stream",
     "text": [
      "100%|██████████| 75/75 [00:07<00:00,  9.77it/s]\n"
     ]
    },
    {
     "name": "stdout",
     "output_type": "stream",
     "text": [
      "Epoch [41/100] completed. Average Training Loss: 0.2540, Training Accuracy: 0.7754\n"
     ]
    },
    {
     "name": "stderr",
     "output_type": "stream",
     "text": [
      "100%|██████████| 16/16 [00:00<00:00, 22.85it/s]\n"
     ]
    },
    {
     "name": "stdout",
     "output_type": "stream",
     "text": [
      "Epoch [41/100] Validation Loss: 0.2445, Validation Accuracy: 0.7800\n",
      "Epochs without improvement: 3/15\n",
      "[Callback] Epoch 41 ended.\n",
      "Training Loss: 0.2540, Training Accuracy: 0.7754\n",
      "Validation Loss: 0.2445, Validation Accuracy: 0.7800\n",
      "Starting epoch 42/100\n"
     ]
    },
    {
     "name": "stderr",
     "output_type": "stream",
     "text": [
      "100%|██████████| 75/75 [00:07<00:00,  9.73it/s]\n"
     ]
    },
    {
     "name": "stdout",
     "output_type": "stream",
     "text": [
      "Epoch [42/100] completed. Average Training Loss: 0.2568, Training Accuracy: 0.7727\n"
     ]
    },
    {
     "name": "stderr",
     "output_type": "stream",
     "text": [
      "100%|██████████| 16/16 [00:00<00:00, 21.81it/s]\n"
     ]
    },
    {
     "name": "stdout",
     "output_type": "stream",
     "text": [
      "Epoch [42/100] Validation Loss: 0.2464, Validation Accuracy: 0.7947\n",
      "Epochs without improvement: 4/15\n",
      "[Callback] Epoch 42 ended.\n",
      "Training Loss: 0.2568, Training Accuracy: 0.7727\n",
      "Validation Loss: 0.2464, Validation Accuracy: 0.7947\n",
      "Starting epoch 43/100\n"
     ]
    },
    {
     "name": "stderr",
     "output_type": "stream",
     "text": [
      "100%|██████████| 75/75 [00:07<00:00,  9.74it/s]\n"
     ]
    },
    {
     "name": "stdout",
     "output_type": "stream",
     "text": [
      "Epoch [43/100] completed. Average Training Loss: 0.2589, Training Accuracy: 0.7689\n"
     ]
    },
    {
     "name": "stderr",
     "output_type": "stream",
     "text": [
      "100%|██████████| 16/16 [00:00<00:00, 22.06it/s]\n"
     ]
    },
    {
     "name": "stdout",
     "output_type": "stream",
     "text": [
      "Epoch [43/100] Validation Loss: 0.2401, Validation Accuracy: 0.7986\n",
      "Validation loss decreased (0.2401). Saving model ...\n",
      "[Callback] Model saved at epoch 43\n",
      "[Callback] Epoch 43 ended.\n",
      "Training Loss: 0.2589, Training Accuracy: 0.7689\n",
      "Validation Loss: 0.2401, Validation Accuracy: 0.7986\n",
      "Starting epoch 44/100\n"
     ]
    },
    {
     "name": "stderr",
     "output_type": "stream",
     "text": [
      "100%|██████████| 75/75 [00:07<00:00,  9.77it/s]\n"
     ]
    },
    {
     "name": "stdout",
     "output_type": "stream",
     "text": [
      "Epoch [44/100] completed. Average Training Loss: 0.2520, Training Accuracy: 0.7704\n"
     ]
    },
    {
     "name": "stderr",
     "output_type": "stream",
     "text": [
      "100%|██████████| 16/16 [00:00<00:00, 22.32it/s]\n"
     ]
    },
    {
     "name": "stdout",
     "output_type": "stream",
     "text": [
      "Epoch [44/100] Validation Loss: 0.2471, Validation Accuracy: 0.7809\n",
      "Epochs without improvement: 1/15\n",
      "[Callback] Epoch 44 ended.\n",
      "Training Loss: 0.2520, Training Accuracy: 0.7704\n",
      "Validation Loss: 0.2471, Validation Accuracy: 0.7809\n",
      "Starting epoch 45/100\n"
     ]
    },
    {
     "name": "stderr",
     "output_type": "stream",
     "text": [
      "100%|██████████| 75/75 [00:07<00:00,  9.71it/s]\n"
     ]
    },
    {
     "name": "stdout",
     "output_type": "stream",
     "text": [
      "Epoch [45/100] completed. Average Training Loss: 0.2534, Training Accuracy: 0.7743\n"
     ]
    },
    {
     "name": "stderr",
     "output_type": "stream",
     "text": [
      "100%|██████████| 16/16 [00:00<00:00, 21.68it/s]\n"
     ]
    },
    {
     "name": "stdout",
     "output_type": "stream",
     "text": [
      "Epoch [45/100] Validation Loss: 0.2516, Validation Accuracy: 0.7859\n",
      "Epochs without improvement: 2/15\n",
      "[Callback] Epoch 45 ended.\n",
      "Training Loss: 0.2534, Training Accuracy: 0.7743\n",
      "Validation Loss: 0.2516, Validation Accuracy: 0.7859\n",
      "Starting epoch 46/100\n"
     ]
    },
    {
     "name": "stderr",
     "output_type": "stream",
     "text": [
      "100%|██████████| 75/75 [00:07<00:00,  9.76it/s]\n"
     ]
    },
    {
     "name": "stdout",
     "output_type": "stream",
     "text": [
      "Epoch [46/100] completed. Average Training Loss: 0.2583, Training Accuracy: 0.7674\n"
     ]
    },
    {
     "name": "stderr",
     "output_type": "stream",
     "text": [
      "100%|██████████| 16/16 [00:00<00:00, 22.39it/s]\n"
     ]
    },
    {
     "name": "stdout",
     "output_type": "stream",
     "text": [
      "Epoch [46/100] Validation Loss: 0.2531, Validation Accuracy: 0.7819\n",
      "Epochs without improvement: 3/15\n",
      "[Callback] Epoch 46 ended.\n",
      "Training Loss: 0.2583, Training Accuracy: 0.7674\n",
      "Validation Loss: 0.2531, Validation Accuracy: 0.7819\n",
      "Starting epoch 47/100\n"
     ]
    },
    {
     "name": "stderr",
     "output_type": "stream",
     "text": [
      "100%|██████████| 75/75 [00:07<00:00,  9.75it/s]\n"
     ]
    },
    {
     "name": "stdout",
     "output_type": "stream",
     "text": [
      "Epoch [47/100] completed. Average Training Loss: 0.2520, Training Accuracy: 0.7720\n"
     ]
    },
    {
     "name": "stderr",
     "output_type": "stream",
     "text": [
      "100%|██████████| 16/16 [00:00<00:00, 22.26it/s]\n"
     ]
    },
    {
     "name": "stdout",
     "output_type": "stream",
     "text": [
      "Epoch [47/100] Validation Loss: 0.2467, Validation Accuracy: 0.8006\n",
      "Epochs without improvement: 4/15\n",
      "[Callback] Epoch 47 ended.\n",
      "Training Loss: 0.2520, Training Accuracy: 0.7720\n",
      "Validation Loss: 0.2467, Validation Accuracy: 0.8006\n",
      "Starting epoch 48/100\n"
     ]
    },
    {
     "name": "stderr",
     "output_type": "stream",
     "text": [
      "100%|██████████| 75/75 [00:07<00:00,  9.73it/s]\n"
     ]
    },
    {
     "name": "stdout",
     "output_type": "stream",
     "text": [
      "Epoch [48/100] completed. Average Training Loss: 0.2550, Training Accuracy: 0.7699\n"
     ]
    },
    {
     "name": "stderr",
     "output_type": "stream",
     "text": [
      "100%|██████████| 16/16 [00:00<00:00, 21.39it/s]\n"
     ]
    },
    {
     "name": "stdout",
     "output_type": "stream",
     "text": [
      "Epoch [48/100] Validation Loss: 0.2472, Validation Accuracy: 0.7917\n",
      "Epochs without improvement: 5/15\n",
      "[Callback] Epoch 48 ended.\n",
      "Training Loss: 0.2550, Training Accuracy: 0.7699\n",
      "Validation Loss: 0.2472, Validation Accuracy: 0.7917\n",
      "Starting epoch 49/100\n"
     ]
    },
    {
     "name": "stderr",
     "output_type": "stream",
     "text": [
      "100%|██████████| 75/75 [00:07<00:00,  9.79it/s]\n"
     ]
    },
    {
     "name": "stdout",
     "output_type": "stream",
     "text": [
      "Epoch [49/100] completed. Average Training Loss: 0.2552, Training Accuracy: 0.7725\n"
     ]
    },
    {
     "name": "stderr",
     "output_type": "stream",
     "text": [
      "100%|██████████| 16/16 [00:00<00:00, 21.79it/s]\n"
     ]
    },
    {
     "name": "stdout",
     "output_type": "stream",
     "text": [
      "Epoch [49/100] Validation Loss: 0.2466, Validation Accuracy: 0.7898\n",
      "Epochs without improvement: 6/15\n",
      "[Callback] Epoch 49 ended.\n",
      "Training Loss: 0.2552, Training Accuracy: 0.7725\n",
      "Validation Loss: 0.2466, Validation Accuracy: 0.7898\n",
      "Starting epoch 50/100\n"
     ]
    },
    {
     "name": "stderr",
     "output_type": "stream",
     "text": [
      "100%|██████████| 75/75 [00:07<00:00,  9.75it/s]\n"
     ]
    },
    {
     "name": "stdout",
     "output_type": "stream",
     "text": [
      "Epoch [50/100] completed. Average Training Loss: 0.2526, Training Accuracy: 0.7800\n"
     ]
    },
    {
     "name": "stderr",
     "output_type": "stream",
     "text": [
      "100%|██████████| 16/16 [00:00<00:00, 22.68it/s]\n"
     ]
    },
    {
     "name": "stdout",
     "output_type": "stream",
     "text": [
      "Epoch [50/100] Validation Loss: 0.2549, Validation Accuracy: 0.7731\n",
      "Epochs without improvement: 7/15\n",
      "[Callback] Epoch 50 ended.\n",
      "Training Loss: 0.2526, Training Accuracy: 0.7800\n",
      "Validation Loss: 0.2549, Validation Accuracy: 0.7731\n",
      "Starting epoch 51/100\n"
     ]
    },
    {
     "name": "stderr",
     "output_type": "stream",
     "text": [
      "100%|██████████| 75/75 [00:07<00:00,  9.72it/s]\n"
     ]
    },
    {
     "name": "stdout",
     "output_type": "stream",
     "text": [
      "Epoch [51/100] completed. Average Training Loss: 0.2565, Training Accuracy: 0.7683\n"
     ]
    },
    {
     "name": "stderr",
     "output_type": "stream",
     "text": [
      "100%|██████████| 16/16 [00:00<00:00, 21.93it/s]\n"
     ]
    },
    {
     "name": "stdout",
     "output_type": "stream",
     "text": [
      "Epoch [51/100] Validation Loss: 0.2455, Validation Accuracy: 0.7937\n",
      "Epochs without improvement: 8/15\n",
      "[Callback] Epoch 51 ended.\n",
      "Training Loss: 0.2565, Training Accuracy: 0.7683\n",
      "Validation Loss: 0.2455, Validation Accuracy: 0.7937\n",
      "Starting epoch 52/100\n"
     ]
    },
    {
     "name": "stderr",
     "output_type": "stream",
     "text": [
      "100%|██████████| 75/75 [00:07<00:00,  9.71it/s]\n"
     ]
    },
    {
     "name": "stdout",
     "output_type": "stream",
     "text": [
      "Epoch [52/100] completed. Average Training Loss: 0.2550, Training Accuracy: 0.7718\n"
     ]
    },
    {
     "name": "stderr",
     "output_type": "stream",
     "text": [
      "100%|██████████| 16/16 [00:00<00:00, 21.93it/s]\n"
     ]
    },
    {
     "name": "stdout",
     "output_type": "stream",
     "text": [
      "Epoch [52/100] Validation Loss: 0.2462, Validation Accuracy: 0.7898\n",
      "Epochs without improvement: 9/15\n",
      "[Callback] Epoch 52 ended.\n",
      "Training Loss: 0.2550, Training Accuracy: 0.7718\n",
      "Validation Loss: 0.2462, Validation Accuracy: 0.7898\n",
      "Starting epoch 53/100\n"
     ]
    },
    {
     "name": "stderr",
     "output_type": "stream",
     "text": [
      "100%|██████████| 75/75 [00:07<00:00,  9.75it/s]\n"
     ]
    },
    {
     "name": "stdout",
     "output_type": "stream",
     "text": [
      "Epoch [53/100] completed. Average Training Loss: 0.2566, Training Accuracy: 0.7714\n"
     ]
    },
    {
     "name": "stderr",
     "output_type": "stream",
     "text": [
      "100%|██████████| 16/16 [00:00<00:00, 22.38it/s]\n"
     ]
    },
    {
     "name": "stdout",
     "output_type": "stream",
     "text": [
      "Epoch [53/100] Validation Loss: 0.2449, Validation Accuracy: 0.7917\n",
      "Epochs without improvement: 10/15\n",
      "[Callback] Epoch 53 ended.\n",
      "Training Loss: 0.2566, Training Accuracy: 0.7714\n",
      "Validation Loss: 0.2449, Validation Accuracy: 0.7917\n",
      "Starting epoch 54/100\n"
     ]
    },
    {
     "name": "stderr",
     "output_type": "stream",
     "text": [
      "100%|██████████| 75/75 [00:07<00:00,  9.72it/s]\n"
     ]
    },
    {
     "name": "stdout",
     "output_type": "stream",
     "text": [
      "Epoch [54/100] completed. Average Training Loss: 0.2547, Training Accuracy: 0.7739\n"
     ]
    },
    {
     "name": "stderr",
     "output_type": "stream",
     "text": [
      "100%|██████████| 16/16 [00:00<00:00, 19.50it/s]\n"
     ]
    },
    {
     "name": "stdout",
     "output_type": "stream",
     "text": [
      "Epoch [54/100] Validation Loss: 0.2438, Validation Accuracy: 0.7819\n",
      "Epochs without improvement: 11/15\n",
      "[Callback] Epoch 54 ended.\n",
      "Training Loss: 0.2547, Training Accuracy: 0.7739\n",
      "Validation Loss: 0.2438, Validation Accuracy: 0.7819\n",
      "Starting epoch 55/100\n"
     ]
    },
    {
     "name": "stderr",
     "output_type": "stream",
     "text": [
      "100%|██████████| 75/75 [00:07<00:00,  9.80it/s]\n"
     ]
    },
    {
     "name": "stdout",
     "output_type": "stream",
     "text": [
      "Epoch [55/100] completed. Average Training Loss: 0.2566, Training Accuracy: 0.7729\n"
     ]
    },
    {
     "name": "stderr",
     "output_type": "stream",
     "text": [
      "100%|██████████| 16/16 [00:00<00:00, 22.34it/s]\n"
     ]
    },
    {
     "name": "stdout",
     "output_type": "stream",
     "text": [
      "Epoch [55/100] Validation Loss: 0.2479, Validation Accuracy: 0.7898\n",
      "Epochs without improvement: 12/15\n",
      "[Callback] Epoch 55 ended.\n",
      "Training Loss: 0.2566, Training Accuracy: 0.7729\n",
      "Validation Loss: 0.2479, Validation Accuracy: 0.7898\n",
      "Starting epoch 56/100\n"
     ]
    },
    {
     "name": "stderr",
     "output_type": "stream",
     "text": [
      "100%|██████████| 75/75 [00:07<00:00,  9.80it/s]\n"
     ]
    },
    {
     "name": "stdout",
     "output_type": "stream",
     "text": [
      "Epoch [56/100] completed. Average Training Loss: 0.2546, Training Accuracy: 0.7731\n"
     ]
    },
    {
     "name": "stderr",
     "output_type": "stream",
     "text": [
      "100%|██████████| 16/16 [00:00<00:00, 22.27it/s]\n"
     ]
    },
    {
     "name": "stdout",
     "output_type": "stream",
     "text": [
      "Epoch [56/100] Validation Loss: 0.2461, Validation Accuracy: 0.7819\n",
      "Epochs without improvement: 13/15\n",
      "[Callback] Epoch 56 ended.\n",
      "Training Loss: 0.2546, Training Accuracy: 0.7731\n",
      "Validation Loss: 0.2461, Validation Accuracy: 0.7819\n",
      "Starting epoch 57/100\n"
     ]
    },
    {
     "name": "stderr",
     "output_type": "stream",
     "text": [
      "100%|██████████| 75/75 [00:07<00:00,  9.86it/s]\n"
     ]
    },
    {
     "name": "stdout",
     "output_type": "stream",
     "text": [
      "Epoch [57/100] completed. Average Training Loss: 0.2564, Training Accuracy: 0.7758\n"
     ]
    },
    {
     "name": "stderr",
     "output_type": "stream",
     "text": [
      "100%|██████████| 16/16 [00:00<00:00, 18.43it/s]\n"
     ]
    },
    {
     "name": "stdout",
     "output_type": "stream",
     "text": [
      "Epoch [57/100] Validation Loss: 0.2455, Validation Accuracy: 0.7957\n",
      "Epochs without improvement: 14/15\n",
      "[Callback] Epoch 57 ended.\n",
      "Training Loss: 0.2564, Training Accuracy: 0.7758\n",
      "Validation Loss: 0.2455, Validation Accuracy: 0.7957\n",
      "Starting epoch 58/100\n"
     ]
    },
    {
     "name": "stderr",
     "output_type": "stream",
     "text": [
      "100%|██████████| 75/75 [00:08<00:00,  9.11it/s]\n"
     ]
    },
    {
     "name": "stdout",
     "output_type": "stream",
     "text": [
      "Epoch [58/100] completed. Average Training Loss: 0.2540, Training Accuracy: 0.7743\n"
     ]
    },
    {
     "name": "stderr",
     "output_type": "stream",
     "text": [
      "100%|██████████| 16/16 [00:00<00:00, 17.57it/s]"
     ]
    },
    {
     "name": "stdout",
     "output_type": "stream",
     "text": [
      "Epoch [58/100] Validation Loss: 0.2537, Validation Accuracy: 0.7819\n",
      "Epochs without improvement: 15/15\n",
      "Early stopping triggered.\n",
      "Best model restored.\n",
      "[Callback] Training completed.\n"
     ]
    },
    {
     "name": "stderr",
     "output_type": "stream",
     "text": [
      "\n"
     ]
    }
   ],
   "source": [
    "# Define the training parameters\n",
    "training_params = {\n",
    "    'num_epochs': 100,\n",
    "    'batch_size': 64,\n",
    "    'learning_rate': 0.001,\n",
    "    'patience': 15,\n",
    "    #'margin': 2.0,\n",
    "    'threshold': 0.5\n",
    "}\n",
    "\n",
    "# Check the number of classes and images\n",
    "print(f\"Number of classes in training set: {len(train_dataset)}\")\n",
    "print(f\"Number of classes in validation set: {len(val_dataset)}\")\n",
    "\n",
    "# Define training dataset parameters\n",
    "train_dataset_params = {\n",
    "    'dataset_class': 'dataset',\n",
    "    'data': train_dataset  # The image dataset built earlier\n",
    "}\n",
    "\n",
    "# Define validation dataset parameters\n",
    "val_dataset_params = {\n",
    "    'dataset_class': 'dataset',\n",
    "    'data': val_dataset  # The image dataset built earlier\n",
    "}\n",
    "#'''\n",
    "\n",
    "\n",
    "# Run the training\n",
    "trained_model = SiameseTrainer.train_model(\n",
    "    model_params,\n",
    "    train_dataset_params,\n",
    "    val_dataset_params,\n",
    "    training_params,\n",
    "    callbacks\n",
    ")\n"
   ]
  },
  {
   "cell_type": "code",
   "execution_count": 22,
   "metadata": {},
   "outputs": [
    {
     "ename": "NameError",
     "evalue": "name 'train_loader' is not defined",
     "output_type": "error",
     "traceback": [
      "\u001b[0;31m---------------------------------------------------------------------------\u001b[0m",
      "\u001b[0;31mNameError\u001b[0m                                 Traceback (most recent call last)",
      "Cell \u001b[0;32mIn[22], line 33\u001b[0m\n\u001b[1;32m     30\u001b[0m     \u001b[38;5;28mprint\u001b[39m(\u001b[38;5;124mf\u001b[39m\u001b[38;5;124m\"\u001b[39m\u001b[38;5;124mTest Accuracy: \u001b[39m\u001b[38;5;132;01m{\u001b[39;00maccuracy\u001b[38;5;132;01m:\u001b[39;00m\u001b[38;5;124m.4f\u001b[39m\u001b[38;5;132;01m}\u001b[39;00m\u001b[38;5;124m\"\u001b[39m)\n\u001b[1;32m     32\u001b[0m \u001b[38;5;66;03m# Evaluate the model\u001b[39;00m\n\u001b[0;32m---> 33\u001b[0m evaluate_model(trained_model, \u001b[43mtrain_loader\u001b[49m)\n",
      "\u001b[0;31mNameError\u001b[0m: name 'train_loader' is not defined"
     ]
    }
   ],
   "source": [
    "predictor = SiamesePredictor(\n",
    "    model_path=trained_model,\n",
    "    model_params=model_params,\n",
    "    #transform=trained_model.transform,\n",
    "    threshold=training_params.get('threshold', 1.0)\n",
    ")\n",
    "\n",
    "# Define a function to evaluate the model on the test set\n",
    "def evaluate_model(model, test_loader):\n",
    "    model.eval()\n",
    "    correct = 0\n",
    "    total = 0\n",
    "\n",
    "    from tqdm import tqdm\n",
    "\n",
    "    with torch.no_grad():\n",
    "        for img1, img2, labels in tqdm(test_loader):\n",
    "            #print(img1.shape, img2.shape, labels.shape)\n",
    "            #print(f\"single input: {predictor._is_single_image(img1)} for {img1.shape}\")\n",
    "            distance, prediction = predictor.predict(img1, img2)\n",
    "\n",
    "            #print(f\"Euclidean Distance: {distance:.4f}\")\n",
    "            #print(f\"Prediction: {'Similar' if prediction == 0 else 'Dissimilar'}\")\n",
    "\n",
    "            # Compare predictions with labels\n",
    "            correct += (prediction == labels).sum().item()\n",
    "            total += labels.size(0)\n",
    "\n",
    "    accuracy = correct / total\n",
    "    print(f\"Test Accuracy: {accuracy:.4f}\")\n",
    "\n",
    "# Evaluate the model\n",
    "evaluate_model(trained_model, train_loader)"
   ]
  },
  {
   "cell_type": "code",
   "execution_count": 71,
   "metadata": {},
   "outputs": [
    {
     "name": "stdout",
     "output_type": "stream",
     "text": [
      "set_difference [ 0  2  4  6  7  8  9 10 11 12 13 14 15 16]\n",
      "['/Users/tristan/Downloads/For Tristan/data/ForTristan_tracklet_images_single_part0.npz', '/Users/tristan/Downloads/For Tristan/data/ForTristan_tracklet_images_single_part1.npz', '/Users/tristan/Downloads/For Tristan/data/ForTristan_tracklet_images_single_part2.npz', '/Users/tristan/Downloads/For Tristan/data/ForTristan_tracklet_images_single_part3.npz']\n"
     ]
    },
    {
     "name": "stderr",
     "output_type": "stream",
     "text": [
      "100%|██████████| 4/4 [00:01<00:00,  2.54it/s]\n"
     ]
    },
    {
     "name": "stdout",
     "output_type": "stream",
     "text": [
      "(288614, 80, 80, 3) (288614,) (288614,) (288614,) (12253, 2)\n"
     ]
    },
    {
     "name": "stderr",
     "output_type": "stream",
     "text": [
      "100%|██████████| 15/15 [00:00<00:00, 18.21it/s]\n"
     ]
    },
    {
     "name": "stdout",
     "output_type": "stream",
     "text": [
      "(80, 80)\n",
      "Color channels: 3\n",
      "Number of classes in training set: 2333\n"
     ]
    },
    {
     "name": "stderr",
     "output_type": "stream",
     "text": [
      "100%|██████████| 37/37 [00:02<00:00, 17.34it/s]"
     ]
    },
    {
     "name": "stdout",
     "output_type": "stream",
     "text": [
      "(0.39744584141550837, 0.8872696099442777)\n"
     ]
    },
    {
     "name": "stderr",
     "output_type": "stream",
     "text": [
      "\n"
     ]
    }
   ],
   "source": [
    "previous_dont_use_ids = [5,3,1]\n",
    "_all_ids  = [0,1,2,3,4,5,6,7,8,9,10,11,12,13,14,15,16]\n",
    "set_difference = np.setxor1d(previous_dont_use_ids, _all_ids)\n",
    "print(\"set_difference\", set_difference)\n",
    "#_train_dataset, _ = load_npz_as_dataset('/Users/tristan/Videos/data/group_1_tracklet_images_single_part0.npz', dont_use_these_ids=set_difference, split=0.0)\n",
    "_train_dataset, _, _ = load_npz_as_dataset('/Users/tristan/Downloads/For Tristan/data/ForTristan', dont_use_these_ids=set_difference, split=0.0)\n",
    "print(f\"Number of classes in training set: {len(_train_dataset)}\")\n",
    "margin = training_params.get('margin', 2.0)\n",
    "criterion = ContrastiveLoss(margin=margin)\n",
    "threshold = training_params.get('threshold', margin / 2.0)\n",
    "\n",
    "#_val_loader = DataLoader(_val_dataset, shuffle=False, batch_size=64, num_workers=0)\n",
    "_train_loader = DataLoader(_train_dataset, shuffle=False, batch_size=64, num_workers=0)\n",
    "\n",
    "#print(SiameseTrainer.validate_model(trained_model, _val_loader, criterion, 'mps', threshold))\n",
    "print(SiameseTrainer.validate_model(trained_model, _train_loader, criterion, 'mps', threshold))"
   ]
  },
  {
   "cell_type": "code",
   "execution_count": 76,
   "metadata": {},
   "outputs": [
    {
     "name": "stdout",
     "output_type": "stream",
     "text": [
      "['/Users/tristan/Downloads/For Tristan/data/ForTristan_tracklet_images_single_part0.npz', '/Users/tristan/Downloads/For Tristan/data/ForTristan_tracklet_images_single_part1.npz', '/Users/tristan/Downloads/For Tristan/data/ForTristan_tracklet_images_single_part2.npz', '/Users/tristan/Downloads/For Tristan/data/ForTristan_tracklet_images_single_part3.npz']\n"
     ]
    },
    {
     "name": "stderr",
     "output_type": "stream",
     "text": [
      "  0%|          | 0/4 [00:00<?, ?it/s]"
     ]
    },
    {
     "name": "stdout",
     "output_type": "stream",
     "text": [
      "['images', 'dimensions', 'positions', 'frame_segment_indexes', 'frame_segments', 'frames', 'ids', 'encoding']\n",
      "(78125,)\n",
      "(78125, 80, 80, 3)\n"
     ]
    },
    {
     "name": "stderr",
     "output_type": "stream",
     "text": [
      " 25%|██▌       | 1/4 [00:01<00:04,  1.49s/it]"
     ]
    },
    {
     "name": "stdout",
     "output_type": "stream",
     "text": [
      "loading /Users/tristan/Downloads/For Tristan/data/ForTristan_tracklet_images_single_part0.npz: (78125, 80, 80, 3) 0 (78125,)\n",
      "['images', 'dimensions', 'positions', 'frame_segment_indexes', 'frame_segments', 'frames', 'ids', 'encoding']\n",
      "(78125,)\n",
      "(78125, 80, 80, 3)\n"
     ]
    },
    {
     "name": "stderr",
     "output_type": "stream",
     "text": [
      " 50%|█████     | 2/4 [00:03<00:03,  1.64s/it]"
     ]
    },
    {
     "name": "stdout",
     "output_type": "stream",
     "text": [
      "loading /Users/tristan/Downloads/For Tristan/data/ForTristan_tracklet_images_single_part1.npz: (78125, 80, 80, 3) 6890 (78125,)\n",
      "['images', 'dimensions', 'positions', 'frame_segment_indexes', 'frame_segments', 'frames', 'ids', 'encoding']\n",
      "(78125,)\n",
      "(78125, 80, 80, 3)\n"
     ]
    },
    {
     "name": "stderr",
     "output_type": "stream",
     "text": [
      " 75%|███████▌  | 3/4 [00:04<00:01,  1.54s/it]"
     ]
    },
    {
     "name": "stdout",
     "output_type": "stream",
     "text": [
      "loading /Users/tristan/Downloads/For Tristan/data/ForTristan_tracklet_images_single_part2.npz: (78125, 80, 80, 3) 14336 (78125,)\n",
      "['images', 'dimensions', 'positions', 'frame_segment_indexes', 'frame_segments', 'frames', 'ids', 'encoding']\n",
      "(54239,)\n",
      "(54239, 80, 80, 3)\n"
     ]
    },
    {
     "name": "stderr",
     "output_type": "stream",
     "text": [
      "100%|██████████| 4/4 [00:05<00:00,  1.43s/it]"
     ]
    },
    {
     "name": "stdout",
     "output_type": "stream",
     "text": [
      "loading /Users/tristan/Downloads/For Tristan/data/ForTristan_tracklet_images_single_part3.npz: (54239, 80, 80, 3) 19902 (54239,)\n"
     ]
    },
    {
     "name": "stderr",
     "output_type": "stream",
     "text": [
      "\n",
      "OpenCV: FFMPEG: tag 0x34363248/'H264' is not supported with codec id 27 and format 'mp4 / MP4 (MPEG-4 Part 14)'\n",
      "OpenCV: FFMPEG: fallback to use tag 0x31637661/'avc1'\n"
     ]
    },
    {
     "name": "stdout",
     "output_type": "stream",
     "text": [
      "(288614,) (288614,) (12253, 2) (288614,) (288614, 80, 80, 3)\n",
      "[ 0  1  2  3  4  5  6  7  8  9 10 11 12 13 14]\n",
      "(19508, 80, 80, 3) (19508,)\n",
      "Generating movie: ForTristan_7_10.mp4\n"
     ]
    },
    {
     "name": "stderr",
     "output_type": "stream",
     "text": [
      "100%|██████████| 19508/19508 [01:25<00:00, 229.14it/s]"
     ]
    },
    {
     "name": "stdout",
     "output_type": "stream",
     "text": [
      "Finished generating movie: ForTristan_7_10.mp4\n"
     ]
    },
    {
     "name": "stderr",
     "output_type": "stream",
     "text": [
      "\n"
     ]
    }
   ],
   "source": [
    "import matplotlib.pyplot as plt\n",
    "import cv2 as cv\n",
    "\n",
    "output_images_npz = \"/Users/tristan/Downloads/For Tristan/data/ForTristan\"\n",
    "video_base_name = output_images_npz.split(\"/\")[-1]\n",
    "#with np.load(\"/Users/tristan/Videos/data/group_1_tracklet_images_single_part0.npz\") as npz:\n",
    "\n",
    "result = concatenate_npzs(output_images_npz, verbose=True)\n",
    "images, frames, ids, frame_segment_indexes, frame_segments = result\n",
    "\n",
    "print(frames.shape, ids.shape, frame_segments.shape, frame_segment_indexes.shape, images.shape)\n",
    "print(np.unique(ids))\n",
    "\n",
    "def generate_movie(id, other=None):\n",
    "    mask = ids == id\n",
    "    other_mask = ids == other if other is not None else None\n",
    "    \n",
    "    predictor = SiamesePredictor(\n",
    "        model_path=trained_model,\n",
    "        model_params=model_params,\n",
    "        threshold=training_params.get('threshold', 1.0)\n",
    "    )\n",
    "\n",
    "    sub_images = images[mask]\n",
    "    sub_frames = frames[mask]\n",
    "\n",
    "    other_images = None\n",
    "    other_frames = None\n",
    "    if other_mask is not None:\n",
    "        other_images = images[other_mask]\n",
    "        other_frames = frames[other_mask]\n",
    "\n",
    "    # sort the images by frame\n",
    "    sort_index = np.argsort(sub_frames)\n",
    "    sub_images = sub_images[sort_index]\n",
    "    sub_frames = sub_frames[sort_index]\n",
    "\n",
    "    print(sub_images.shape, sub_frames.shape)\n",
    "\n",
    "    name = f'{video_base_name}_{id}.mp4' if other is None else f'{video_base_name}_{id}_{other}.mp4'\n",
    "    print(f\"Generating movie: {name}\")\n",
    "    cap = cv.VideoWriter(name, cv.VideoWriter_fourcc(*'H264'), 30, (80 * 2, 80))\n",
    "    previous_image = None\n",
    "    for frame, img in tqdm(zip(sub_frames, sub_images), total=len(sub_frames)):\n",
    "        similar = None\n",
    "        corresponding_image = None\n",
    "        \n",
    "        if other_images is None:\n",
    "            similar = True\n",
    "\n",
    "            if previous_image is not None:\n",
    "                distance, prediction = predictor.predict(previous_image, img)\n",
    "                if prediction == 1:\n",
    "                    similar = False\n",
    "                #print(f\"Euclidean Distance: {distance:.4f}\")\n",
    "                #print(f\"Prediction: {'Similar' if prediction == 0 else 'Dissimilar'}\")\n",
    "            previous_image = img\n",
    "        else:\n",
    "            # find the corresponding image that is closest to the current frame\n",
    "            min_frame_idx = np.argmin(np.abs(other_frames - frame))\n",
    "            corresponding_image = other_images[min_frame_idx]\n",
    "            other_frame = other_frames[min_frame_idx]\n",
    "\n",
    "            distance, prediction = predictor.predict(img, corresponding_image)\n",
    "            if prediction == 1:\n",
    "                similar = False\n",
    "            else:\n",
    "                similar = True\n",
    "\n",
    "            assert corresponding_image is not None\n",
    "        \n",
    "        if img.shape[-1] == 1:\n",
    "            img = cv.cvtColor(img, cv.COLOR_GRAY2BGR)\n",
    "        output = np.zeros((80, 80 * 2, 3), dtype=np.uint8)\n",
    "        output[:, :80] = img\n",
    "        if other_images is not None:\n",
    "            if corresponding_image.shape[-1] == 1:\n",
    "                corresponding_image = cv.cvtColor(corresponding_image, cv.COLOR_GRAY2BGR)\n",
    "            output[:, 80:] = corresponding_image\n",
    "        elif previous_image is not None:\n",
    "            if previous_image.shape[-1] == 1:\n",
    "                previous_image = cv.cvtColor(previous_image, cv.COLOR_GRAY2BGR)\n",
    "            output[:, 80:] = previous_image\n",
    "\n",
    "        cv.putText(output, f\"{id} {frame}\", (10, 10), cv.FONT_HERSHEY_SIMPLEX, 0.3, (255, 255, 255), 1, cv.LINE_AA)\n",
    "        if other_images is not None:\n",
    "            cv.putText(output, f\"{other} ({other_frame})\", (90, 10), cv.FONT_HERSHEY_SIMPLEX, 0.3, (255, 255, 255), 1, cv.LINE_AA)\n",
    "        else:\n",
    "            cv.putText(output, f\"previous frame\", (90, 10), cv.FONT_HERSHEY_SIMPLEX, 0.3, (255, 255, 255), 1, cv.LINE_AA)\n",
    "\n",
    "        if similar is None:\n",
    "            cv.putText(output, \"Unknown\", (10, 20), cv.FONT_HERSHEY_SIMPLEX, 0.3, (255, 255, 255), 1, cv.LINE_AA)\n",
    "            cv.rectangle(output, (0, 0), (80, 80), (255, 255, 255), 1)\n",
    "        elif similar:\n",
    "            cv.putText(output, \"Similar\", (10, 20), cv.FONT_HERSHEY_SIMPLEX, 0.3, (0, 255, 0), 1, cv.LINE_AA)\n",
    "            cv.rectangle(output, (0, 0), (80, 80), (0, 255, 0), 1)\n",
    "        else:\n",
    "            cv.putText(output, \"Dissimilar\", (10, 20), cv.FONT_HERSHEY_SIMPLEX, 0.3, (0, 0, 255), 1, cv.LINE_AA)\n",
    "            cv.rectangle(output, (0, 0), (80, 80), (0, 0, 255), 1)\n",
    "\n",
    "        cap.write(output)\n",
    "\n",
    "    cap.release()\n",
    "\n",
    "    print(f\"Finished generating movie: {name}\")\n",
    "\n",
    "generate_movie(7, 10)"
   ]
  },
  {
   "cell_type": "code",
   "execution_count": 192,
   "metadata": {},
   "outputs": [
    {
     "name": "stdout",
     "output_type": "stream",
     "text": [
      "positive: label: 0.0, id1: 9, frame1: 18478, id2: 9, frame2: 15489\n",
      "negative: label: 1.0, id1: 5, frame1: 2650, id2: 3, frame2: 2650\n",
      "negative: label: 1.0, id1: 5, frame1: 19266, id2: 9, frame2: 19266\n",
      "negative: label: 1.0, id1: 7, frame1: 6511, id2: 5, frame2: 6511\n",
      "negative: label: 1.0, id1: 0, frame1: 1246, id2: 2, frame2: 1246\n",
      "negative: label: 1.0, id1: 8, frame1: 9821, id2: 5, frame2: 9821\n",
      "negative: label: 1.0, id1: 3, frame1: 6221, id2: 4, frame2: 6221\n",
      "negative: label: 1.0, id1: 3, frame1: 2151, id2: 0, frame2: 2151\n",
      "negative: label: 1.0, id1: 5, frame1: 11327, id2: 9, frame2: 11327\n",
      "negative: label: 1.0, id1: 5, frame1: 445, id2: 9, frame2: 445\n",
      "negative: label: 1.0, id1: 0, frame1: 17050, id2: 7, frame2: 17050\n"
     ]
    }
   ],
   "source": [
    "for i, (label, id1, frame1, img1, id2, frame2, img2) in enumerate(all_positives):\n",
    "    print(f\"positive: label: {label}, id1: {id1}, frame1: {frame1}, id2: {id2}, frame2: {frame2}\")\n",
    "    break\n",
    "\n",
    "examples = [all_negatives[n] for n in np.random.randint(0, len(all_negatives), 10)]\n",
    "for i, (label, id1, frame1, img1, id2, frame2, img2) in enumerate(examples):\n",
    "    print(f\"negative: label: {label}, id1: {id1}, frame1: {frame1}, id2: {id2}, frame2: {frame2}\")\n",
    "    #break\n",
    "#print(f\"all_positives: {all_positives[0]}\")\n",
    "#print(f\"all_negatives: {np.shape(all_negatives)}\")"
   ]
  },
  {
   "cell_type": "code",
   "execution_count": null,
   "metadata": {},
   "outputs": [],
   "source": [
    "# now sort the generated dataset into train and val folders\n",
    "from sklearn.model_selection import train_test_split\n",
    "\n",
    "# get all the folders\n",
    "ids = glob(os.path.join(root, \"*\"))\n",
    "\n",
    "# create the train and val folders\n",
    "os.makedirs(os.path.join(root, 'train'), exist_ok=True)\n",
    "os.makedirs(os.path.join(root, 'val'), exist_ok=True)\n",
    "\n",
    "# split the ids into train and val\n",
    "train_ids, val_ids = train_test_split(ids, test_size=0.2)\n",
    "\n",
    "# move the folders to the correct location\n",
    "for folder in train_ids:\n",
    "    os.rename(folder, os.path.join(root, 'train', os.path.basename(folder)))\n",
    "\n",
    "for folder in val_ids:\n",
    "    os.rename(folder, os.path.join(root, 'val', os.path.basename(folder)))"
   ]
  },
  {
   "cell_type": "code",
   "execution_count": 285,
   "metadata": {},
   "outputs": [],
   "source": [
    "trained_model.save_model(\"trained_model.pt\")"
   ]
  },
  {
   "cell_type": "code",
   "execution_count": 286,
   "metadata": {},
   "outputs": [
    {
     "data": {
      "text/plain": [
       "SiameseNetworkPyTorch(\n",
       "  (conv_layers): Sequential(\n",
       "    (0): Conv2d(1, 64, kernel_size=(3, 3), stride=(1, 1), padding=(1, 1))\n",
       "    (1): BatchNorm2d(64, eps=1e-05, momentum=0.1, affine=True, track_running_stats=True)\n",
       "    (2): ReLU()\n",
       "    (3): MaxPool2d(kernel_size=2, stride=2, padding=0, dilation=1, ceil_mode=False)\n",
       "    (4): Conv2d(64, 128, kernel_size=(3, 3), stride=(1, 1), padding=(1, 1))\n",
       "    (5): BatchNorm2d(128, eps=1e-05, momentum=0.1, affine=True, track_running_stats=True)\n",
       "    (6): ReLU()\n",
       "    (7): MaxPool2d(kernel_size=2, stride=2, padding=0, dilation=1, ceil_mode=False)\n",
       "    (8): Conv2d(128, 256, kernel_size=(3, 3), stride=(1, 1), padding=(1, 1))\n",
       "    (9): BatchNorm2d(256, eps=1e-05, momentum=0.1, affine=True, track_running_stats=True)\n",
       "    (10): ReLU()\n",
       "    (11): MaxPool2d(kernel_size=2, stride=2, padding=0, dilation=1, ceil_mode=False)\n",
       "    (12): Conv2d(256, 512, kernel_size=(3, 3), stride=(1, 1), padding=(1, 1))\n",
       "    (13): BatchNorm2d(512, eps=1e-05, momentum=0.1, affine=True, track_running_stats=True)\n",
       "    (14): ReLU()\n",
       "    (15): AdaptiveAvgPool2d(output_size=1)\n",
       "  )\n",
       "  (fc_layers): Sequential(\n",
       "    (0): Linear(in_features=512, out_features=4096, bias=True)\n",
       "    (1): ReLU()\n",
       "    (2): Linear(in_features=4096, out_features=128, bias=True)\n",
       "  )\n",
       ")"
      ]
     },
     "execution_count": 286,
     "metadata": {},
     "output_type": "execute_result"
    }
   ],
   "source": [
    "test_model = SiameseNetworkPyTorch.load_trained_model(\"trained_model.pt\", image_size=(80, 80), color_channels=1, embedding_size=128)\n",
    "test_model.to('mps')"
   ]
  },
  {
   "cell_type": "code",
   "execution_count": 287,
   "metadata": {},
   "outputs": [
    {
     "name": "stderr",
     "output_type": "stream",
     "text": [
      "100%|██████████| 86/86 [00:02<00:00, 29.79it/s]"
     ]
    },
    {
     "name": "stdout",
     "output_type": "stream",
     "text": [
      "(0.42423157289970753, 0.8795379537953796)\n"
     ]
    },
    {
     "name": "stderr",
     "output_type": "stream",
     "text": [
      "\n"
     ]
    }
   ],
   "source": [
    "print(SiameseTrainer.validate_model(test_model, _train_loader, criterion, 'mps', threshold))"
   ]
  },
  {
   "cell_type": "code",
   "execution_count": null,
   "metadata": {},
   "outputs": [],
   "source": []
  }
 ],
 "metadata": {
  "kernelspec": {
   "display_name": "jupyter",
   "language": "python",
   "name": "python3"
  },
  "language_info": {
   "codemirror_mode": {
    "name": "ipython",
    "version": 3
   },
   "file_extension": ".py",
   "mimetype": "text/x-python",
   "name": "python",
   "nbconvert_exporter": "python",
   "pygments_lexer": "ipython3",
   "version": "3.11.8"
  }
 },
 "nbformat": 4,
 "nbformat_minor": 2
}
